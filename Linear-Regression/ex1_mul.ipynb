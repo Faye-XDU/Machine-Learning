{
 "metadata": {
  "language_info": {
   "codemirror_mode": {
    "name": "ipython",
    "version": 3
   },
   "file_extension": ".py",
   "mimetype": "text/x-python",
   "name": "python",
   "nbconvert_exporter": "python",
   "pygments_lexer": "ipython3",
   "version": "3.8.5-final"
  },
  "orig_nbformat": 2,
  "kernelspec": {
   "name": "python3",
   "display_name": "Python 3.8.5 64-bit (conda)",
   "metadata": {
    "interpreter": {
     "hash": "3a7f06e26b97504ace829d77b47f549c1e37af19430c393db5bae45ebbfa637e"
    }
   }
  }
 },
 "nbformat": 4,
 "nbformat_minor": 2,
 "cells": [
  {
   "cell_type": "code",
   "execution_count": 47,
   "metadata": {},
   "outputs": [],
   "source": [
    "import numpy as np\n",
    "import pandas as pd\n",
    "import matplotlib.pyplot as plt"
   ]
  },
  {
   "cell_type": "code",
   "execution_count": 48,
   "metadata": {},
   "outputs": [
    {
     "output_type": "execute_result",
     "data": {
      "text/plain": [
       "   size  num   price\n",
       "0  2104    3  399900\n",
       "1  1600    3  329900\n",
       "2  2400    3  369000\n",
       "3  1416    2  232000\n",
       "4  3000    4  539900"
      ],
      "text/html": "<div>\n<style scoped>\n    .dataframe tbody tr th:only-of-type {\n        vertical-align: middle;\n    }\n\n    .dataframe tbody tr th {\n        vertical-align: top;\n    }\n\n    .dataframe thead th {\n        text-align: right;\n    }\n</style>\n<table border=\"1\" class=\"dataframe\">\n  <thead>\n    <tr style=\"text-align: right;\">\n      <th></th>\n      <th>size</th>\n      <th>num</th>\n      <th>price</th>\n    </tr>\n  </thead>\n  <tbody>\n    <tr>\n      <th>0</th>\n      <td>2104</td>\n      <td>3</td>\n      <td>399900</td>\n    </tr>\n    <tr>\n      <th>1</th>\n      <td>1600</td>\n      <td>3</td>\n      <td>329900</td>\n    </tr>\n    <tr>\n      <th>2</th>\n      <td>2400</td>\n      <td>3</td>\n      <td>369000</td>\n    </tr>\n    <tr>\n      <th>3</th>\n      <td>1416</td>\n      <td>2</td>\n      <td>232000</td>\n    </tr>\n    <tr>\n      <th>4</th>\n      <td>3000</td>\n      <td>4</td>\n      <td>539900</td>\n    </tr>\n  </tbody>\n</table>\n</div>"
     },
     "metadata": {},
     "execution_count": 48
    }
   ],
   "source": [
    "path = \"ex1data2.txt\"\n",
    "data = pd.read_csv(path, header=None, names=[\"size\", \"num\", \"price\"])\n",
    "data.head()"
   ]
  },
  {
   "cell_type": "code",
   "execution_count": 49,
   "metadata": {},
   "outputs": [],
   "source": [
    "def normalize_feature(data):\n",
    "    return data.apply(lambda column: (column - column.mean()) / column.std())"
   ]
  },
  {
   "cell_type": "code",
   "execution_count": 50,
   "metadata": {},
   "outputs": [
    {
     "output_type": "execute_result",
     "data": {
      "text/plain": [
       "       size       num     price\n",
       "0  0.130010 -0.223675  0.475747\n",
       "1 -0.504190 -0.223675 -0.084074\n",
       "2  0.502476 -0.223675  0.228626\n",
       "3 -0.735723 -1.537767 -0.867025\n",
       "4  1.257476  1.090417  1.595389"
      ],
      "text/html": "<div>\n<style scoped>\n    .dataframe tbody tr th:only-of-type {\n        vertical-align: middle;\n    }\n\n    .dataframe tbody tr th {\n        vertical-align: top;\n    }\n\n    .dataframe thead th {\n        text-align: right;\n    }\n</style>\n<table border=\"1\" class=\"dataframe\">\n  <thead>\n    <tr style=\"text-align: right;\">\n      <th></th>\n      <th>size</th>\n      <th>num</th>\n      <th>price</th>\n    </tr>\n  </thead>\n  <tbody>\n    <tr>\n      <th>0</th>\n      <td>0.130010</td>\n      <td>-0.223675</td>\n      <td>0.475747</td>\n    </tr>\n    <tr>\n      <th>1</th>\n      <td>-0.504190</td>\n      <td>-0.223675</td>\n      <td>-0.084074</td>\n    </tr>\n    <tr>\n      <th>2</th>\n      <td>0.502476</td>\n      <td>-0.223675</td>\n      <td>0.228626</td>\n    </tr>\n    <tr>\n      <th>3</th>\n      <td>-0.735723</td>\n      <td>-1.537767</td>\n      <td>-0.867025</td>\n    </tr>\n    <tr>\n      <th>4</th>\n      <td>1.257476</td>\n      <td>1.090417</td>\n      <td>1.595389</td>\n    </tr>\n  </tbody>\n</table>\n</div>"
     },
     "metadata": {},
     "execution_count": 50
    }
   ],
   "source": [
    "data = normalize_feature(data)\n",
    "data.head()"
   ]
  },
  {
   "cell_type": "code",
   "execution_count": 51,
   "metadata": {},
   "outputs": [],
   "source": [
    "def computeCost(X, y, theta):\n",
    "    return np.sum(np.power((theta.T * X - y), 2)) / (len(X) * 2)\n"
   ]
  },
  {
   "cell_type": "code",
   "execution_count": 52,
   "metadata": {},
   "outputs": [
    {
     "output_type": "execute_result",
     "data": {
      "text/plain": [
       "    ones      size       num     price\n",
       "0      1  0.130010 -0.223675  0.475747\n",
       "1      1 -0.504190 -0.223675 -0.084074\n",
       "2      1  0.502476 -0.223675  0.228626\n",
       "3      1 -0.735723 -1.537767 -0.867025\n",
       "4      1  1.257476  1.090417  1.595389\n",
       "5      1 -0.019732  1.090417 -0.323998\n",
       "6      1 -0.587240 -0.223675 -0.204036\n",
       "7      1 -0.721881 -0.223675 -1.130948\n",
       "8      1 -0.781023 -0.223675 -1.026973\n",
       "9      1 -0.637573 -0.223675 -0.783051\n",
       "10     1 -0.076357  1.090417 -0.803053\n",
       "11     1 -0.000857 -0.223675  0.052682\n",
       "12     1 -0.139273 -0.223675 -0.083283\n",
       "13     1  3.117292  2.404508  2.874981\n",
       "14     1 -0.921956 -0.223675 -0.643896\n",
       "15     1  0.376643  1.090417  0.875619\n",
       "16     1 -0.856523 -1.537767 -0.323998\n",
       "17     1 -0.962223 -0.223675 -1.123743\n",
       "18     1  0.765468  1.090417  1.276275\n",
       "19     1  1.296484  1.090417  2.068039\n",
       "20     1 -0.294048 -0.223675 -0.699878\n",
       "21     1 -0.141790 -1.537767 -0.683083\n",
       "22     1 -0.499157 -0.223675 -0.779852\n",
       "23     1 -0.048673  1.090417 -0.643896\n",
       "24     1  2.377392 -0.223675  1.867303\n",
       "25     1 -1.133356 -0.223675 -0.723870\n",
       "26     1 -0.682873 -0.223675  0.992382\n",
       "27     1  0.661026 -0.223675  1.028370\n",
       "28     1  0.250810 -0.223675  1.076355\n",
       "29     1  0.800701 -0.223675 -0.323998\n",
       "30     1 -0.203448 -1.537767  0.075875\n",
       "31     1 -1.259189 -2.851859 -1.363666\n",
       "32     1  0.049477  1.090417 -0.204036\n",
       "33     1  1.429868 -0.223675  1.915287\n",
       "34     1 -0.238682  1.090417 -0.435962\n",
       "35     1 -0.709298 -0.223675 -0.723870\n",
       "36     1 -0.958448 -0.223675 -0.883819\n",
       "37     1  0.165243  1.090417  0.036687\n",
       "38     1  2.786350  1.090417  1.668166\n",
       "39     1  0.202993  1.090417 -0.427165\n",
       "40     1 -0.423657 -1.537767  0.224627\n",
       "41     1  0.298626 -0.223675 -0.084074\n",
       "42     1  0.712618  1.090417 -0.211234\n",
       "43     1 -1.007523 -0.223675 -0.331196\n",
       "44     1 -1.445423 -1.537767 -1.283692\n",
       "45     1 -0.187090  1.090417 -0.323998\n",
       "46     1 -1.003748 -0.223675 -0.807044"
      ],
      "text/html": "<div>\n<style scoped>\n    .dataframe tbody tr th:only-of-type {\n        vertical-align: middle;\n    }\n\n    .dataframe tbody tr th {\n        vertical-align: top;\n    }\n\n    .dataframe thead th {\n        text-align: right;\n    }\n</style>\n<table border=\"1\" class=\"dataframe\">\n  <thead>\n    <tr style=\"text-align: right;\">\n      <th></th>\n      <th>ones</th>\n      <th>size</th>\n      <th>num</th>\n      <th>price</th>\n    </tr>\n  </thead>\n  <tbody>\n    <tr>\n      <th>0</th>\n      <td>1</td>\n      <td>0.130010</td>\n      <td>-0.223675</td>\n      <td>0.475747</td>\n    </tr>\n    <tr>\n      <th>1</th>\n      <td>1</td>\n      <td>-0.504190</td>\n      <td>-0.223675</td>\n      <td>-0.084074</td>\n    </tr>\n    <tr>\n      <th>2</th>\n      <td>1</td>\n      <td>0.502476</td>\n      <td>-0.223675</td>\n      <td>0.228626</td>\n    </tr>\n    <tr>\n      <th>3</th>\n      <td>1</td>\n      <td>-0.735723</td>\n      <td>-1.537767</td>\n      <td>-0.867025</td>\n    </tr>\n    <tr>\n      <th>4</th>\n      <td>1</td>\n      <td>1.257476</td>\n      <td>1.090417</td>\n      <td>1.595389</td>\n    </tr>\n    <tr>\n      <th>5</th>\n      <td>1</td>\n      <td>-0.019732</td>\n      <td>1.090417</td>\n      <td>-0.323998</td>\n    </tr>\n    <tr>\n      <th>6</th>\n      <td>1</td>\n      <td>-0.587240</td>\n      <td>-0.223675</td>\n      <td>-0.204036</td>\n    </tr>\n    <tr>\n      <th>7</th>\n      <td>1</td>\n      <td>-0.721881</td>\n      <td>-0.223675</td>\n      <td>-1.130948</td>\n    </tr>\n    <tr>\n      <th>8</th>\n      <td>1</td>\n      <td>-0.781023</td>\n      <td>-0.223675</td>\n      <td>-1.026973</td>\n    </tr>\n    <tr>\n      <th>9</th>\n      <td>1</td>\n      <td>-0.637573</td>\n      <td>-0.223675</td>\n      <td>-0.783051</td>\n    </tr>\n    <tr>\n      <th>10</th>\n      <td>1</td>\n      <td>-0.076357</td>\n      <td>1.090417</td>\n      <td>-0.803053</td>\n    </tr>\n    <tr>\n      <th>11</th>\n      <td>1</td>\n      <td>-0.000857</td>\n      <td>-0.223675</td>\n      <td>0.052682</td>\n    </tr>\n    <tr>\n      <th>12</th>\n      <td>1</td>\n      <td>-0.139273</td>\n      <td>-0.223675</td>\n      <td>-0.083283</td>\n    </tr>\n    <tr>\n      <th>13</th>\n      <td>1</td>\n      <td>3.117292</td>\n      <td>2.404508</td>\n      <td>2.874981</td>\n    </tr>\n    <tr>\n      <th>14</th>\n      <td>1</td>\n      <td>-0.921956</td>\n      <td>-0.223675</td>\n      <td>-0.643896</td>\n    </tr>\n    <tr>\n      <th>15</th>\n      <td>1</td>\n      <td>0.376643</td>\n      <td>1.090417</td>\n      <td>0.875619</td>\n    </tr>\n    <tr>\n      <th>16</th>\n      <td>1</td>\n      <td>-0.856523</td>\n      <td>-1.537767</td>\n      <td>-0.323998</td>\n    </tr>\n    <tr>\n      <th>17</th>\n      <td>1</td>\n      <td>-0.962223</td>\n      <td>-0.223675</td>\n      <td>-1.123743</td>\n    </tr>\n    <tr>\n      <th>18</th>\n      <td>1</td>\n      <td>0.765468</td>\n      <td>1.090417</td>\n      <td>1.276275</td>\n    </tr>\n    <tr>\n      <th>19</th>\n      <td>1</td>\n      <td>1.296484</td>\n      <td>1.090417</td>\n      <td>2.068039</td>\n    </tr>\n    <tr>\n      <th>20</th>\n      <td>1</td>\n      <td>-0.294048</td>\n      <td>-0.223675</td>\n      <td>-0.699878</td>\n    </tr>\n    <tr>\n      <th>21</th>\n      <td>1</td>\n      <td>-0.141790</td>\n      <td>-1.537767</td>\n      <td>-0.683083</td>\n    </tr>\n    <tr>\n      <th>22</th>\n      <td>1</td>\n      <td>-0.499157</td>\n      <td>-0.223675</td>\n      <td>-0.779852</td>\n    </tr>\n    <tr>\n      <th>23</th>\n      <td>1</td>\n      <td>-0.048673</td>\n      <td>1.090417</td>\n      <td>-0.643896</td>\n    </tr>\n    <tr>\n      <th>24</th>\n      <td>1</td>\n      <td>2.377392</td>\n      <td>-0.223675</td>\n      <td>1.867303</td>\n    </tr>\n    <tr>\n      <th>25</th>\n      <td>1</td>\n      <td>-1.133356</td>\n      <td>-0.223675</td>\n      <td>-0.723870</td>\n    </tr>\n    <tr>\n      <th>26</th>\n      <td>1</td>\n      <td>-0.682873</td>\n      <td>-0.223675</td>\n      <td>0.992382</td>\n    </tr>\n    <tr>\n      <th>27</th>\n      <td>1</td>\n      <td>0.661026</td>\n      <td>-0.223675</td>\n      <td>1.028370</td>\n    </tr>\n    <tr>\n      <th>28</th>\n      <td>1</td>\n      <td>0.250810</td>\n      <td>-0.223675</td>\n      <td>1.076355</td>\n    </tr>\n    <tr>\n      <th>29</th>\n      <td>1</td>\n      <td>0.800701</td>\n      <td>-0.223675</td>\n      <td>-0.323998</td>\n    </tr>\n    <tr>\n      <th>30</th>\n      <td>1</td>\n      <td>-0.203448</td>\n      <td>-1.537767</td>\n      <td>0.075875</td>\n    </tr>\n    <tr>\n      <th>31</th>\n      <td>1</td>\n      <td>-1.259189</td>\n      <td>-2.851859</td>\n      <td>-1.363666</td>\n    </tr>\n    <tr>\n      <th>32</th>\n      <td>1</td>\n      <td>0.049477</td>\n      <td>1.090417</td>\n      <td>-0.204036</td>\n    </tr>\n    <tr>\n      <th>33</th>\n      <td>1</td>\n      <td>1.429868</td>\n      <td>-0.223675</td>\n      <td>1.915287</td>\n    </tr>\n    <tr>\n      <th>34</th>\n      <td>1</td>\n      <td>-0.238682</td>\n      <td>1.090417</td>\n      <td>-0.435962</td>\n    </tr>\n    <tr>\n      <th>35</th>\n      <td>1</td>\n      <td>-0.709298</td>\n      <td>-0.223675</td>\n      <td>-0.723870</td>\n    </tr>\n    <tr>\n      <th>36</th>\n      <td>1</td>\n      <td>-0.958448</td>\n      <td>-0.223675</td>\n      <td>-0.883819</td>\n    </tr>\n    <tr>\n      <th>37</th>\n      <td>1</td>\n      <td>0.165243</td>\n      <td>1.090417</td>\n      <td>0.036687</td>\n    </tr>\n    <tr>\n      <th>38</th>\n      <td>1</td>\n      <td>2.786350</td>\n      <td>1.090417</td>\n      <td>1.668166</td>\n    </tr>\n    <tr>\n      <th>39</th>\n      <td>1</td>\n      <td>0.202993</td>\n      <td>1.090417</td>\n      <td>-0.427165</td>\n    </tr>\n    <tr>\n      <th>40</th>\n      <td>1</td>\n      <td>-0.423657</td>\n      <td>-1.537767</td>\n      <td>0.224627</td>\n    </tr>\n    <tr>\n      <th>41</th>\n      <td>1</td>\n      <td>0.298626</td>\n      <td>-0.223675</td>\n      <td>-0.084074</td>\n    </tr>\n    <tr>\n      <th>42</th>\n      <td>1</td>\n      <td>0.712618</td>\n      <td>1.090417</td>\n      <td>-0.211234</td>\n    </tr>\n    <tr>\n      <th>43</th>\n      <td>1</td>\n      <td>-1.007523</td>\n      <td>-0.223675</td>\n      <td>-0.331196</td>\n    </tr>\n    <tr>\n      <th>44</th>\n      <td>1</td>\n      <td>-1.445423</td>\n      <td>-1.537767</td>\n      <td>-1.283692</td>\n    </tr>\n    <tr>\n      <th>45</th>\n      <td>1</td>\n      <td>-0.187090</td>\n      <td>1.090417</td>\n      <td>-0.323998</td>\n    </tr>\n    <tr>\n      <th>46</th>\n      <td>1</td>\n      <td>-1.003748</td>\n      <td>-0.223675</td>\n      <td>-0.807044</td>\n    </tr>\n  </tbody>\n</table>\n</div>"
     },
     "metadata": {},
     "execution_count": 52
    }
   ],
   "source": [
    "data.insert(0, \"ones\", 1)\n",
    "data"
   ]
  },
  {
   "cell_type": "code",
   "execution_count": 53,
   "metadata": {},
   "outputs": [
    {
     "output_type": "execute_result",
     "data": {
      "text/plain": [
       "matrix([[0, 1, 2]])"
      ]
     },
     "metadata": {},
     "execution_count": 53
    }
   ],
   "source": [
    "cols = data.shape[1]\n",
    "# print(data.shape[1])\n",
    "X = data.iloc[:, :cols-1]\n",
    "y = data.iloc[:, cols-1:cols]\n",
    "theta = np.matrix(np.array(range(cols-1)))\n",
    "theta\n"
   ]
  },
  {
   "cell_type": "code",
   "execution_count": 54,
   "metadata": {},
   "outputs": [],
   "source": [
    "alpha = 0.01\n",
    "intes = 1000"
   ]
  },
  {
   "cell_type": "code",
   "execution_count": 55,
   "metadata": {},
   "outputs": [
    {
     "output_type": "error",
     "ename": "ValueError",
     "evalue": "Unable to coerce to DataFrame, shape must be (47, 3): given (3, 1)",
     "traceback": [
      "\u001b[1;31m---------------------------------------------------------------------------\u001b[0m",
      "\u001b[1;31mValueError\u001b[0m                                Traceback (most recent call last)",
      "\u001b[1;32m<ipython-input-55-8cbccd871f86>\u001b[0m in \u001b[0;36m<module>\u001b[1;34m\u001b[0m\n\u001b[1;32m----> 1\u001b[1;33m \u001b[0mcomputeCost\u001b[0m\u001b[1;33m(\u001b[0m\u001b[0mX\u001b[0m\u001b[1;33m,\u001b[0m \u001b[0my\u001b[0m\u001b[1;33m,\u001b[0m\u001b[0mtheta\u001b[0m\u001b[1;33m)\u001b[0m\u001b[1;33m\u001b[0m\u001b[1;33m\u001b[0m\u001b[0m\n\u001b[0m",
      "\u001b[1;32m<ipython-input-51-f45a872a4da2>\u001b[0m in \u001b[0;36mcomputeCost\u001b[1;34m(X, y, theta)\u001b[0m\n\u001b[0;32m      1\u001b[0m \u001b[1;32mdef\u001b[0m \u001b[0mcomputeCost\u001b[0m\u001b[1;33m(\u001b[0m\u001b[0mX\u001b[0m\u001b[1;33m,\u001b[0m \u001b[0my\u001b[0m\u001b[1;33m,\u001b[0m \u001b[0mtheta\u001b[0m\u001b[1;33m)\u001b[0m\u001b[1;33m:\u001b[0m\u001b[1;33m\u001b[0m\u001b[1;33m\u001b[0m\u001b[0m\n\u001b[1;32m----> 2\u001b[1;33m     \u001b[1;32mreturn\u001b[0m \u001b[0mnp\u001b[0m\u001b[1;33m.\u001b[0m\u001b[0msum\u001b[0m\u001b[1;33m(\u001b[0m\u001b[0mnp\u001b[0m\u001b[1;33m.\u001b[0m\u001b[0mpower\u001b[0m\u001b[1;33m(\u001b[0m\u001b[1;33m(\u001b[0m\u001b[0mtheta\u001b[0m\u001b[1;33m.\u001b[0m\u001b[0mT\u001b[0m \u001b[1;33m*\u001b[0m \u001b[0mX\u001b[0m \u001b[1;33m-\u001b[0m \u001b[0my\u001b[0m\u001b[1;33m)\u001b[0m\u001b[1;33m,\u001b[0m \u001b[1;36m2\u001b[0m\u001b[1;33m)\u001b[0m\u001b[1;33m)\u001b[0m \u001b[1;33m/\u001b[0m \u001b[1;33m(\u001b[0m\u001b[0mlen\u001b[0m\u001b[1;33m(\u001b[0m\u001b[0mX\u001b[0m\u001b[1;33m)\u001b[0m \u001b[1;33m*\u001b[0m \u001b[1;36m2\u001b[0m\u001b[1;33m)\u001b[0m\u001b[1;33m\u001b[0m\u001b[1;33m\u001b[0m\u001b[0m\n\u001b[0m",
      "\u001b[1;32mD:\\Python\\anaconda\\lib\\site-packages\\pandas\\core\\ops\\__init__.py\u001b[0m in \u001b[0;36mf\u001b[1;34m(self, other, axis, level, fill_value)\u001b[0m\n\u001b[0;32m    645\u001b[0m         \u001b[1;31m# TODO: why are we passing flex=True instead of flex=not special?\u001b[0m\u001b[1;33m\u001b[0m\u001b[1;33m\u001b[0m\u001b[1;33m\u001b[0m\u001b[0m\n\u001b[0;32m    646\u001b[0m         \u001b[1;31m#  15 tests fail if we pass flex=not special instead\u001b[0m\u001b[1;33m\u001b[0m\u001b[1;33m\u001b[0m\u001b[1;33m\u001b[0m\u001b[0m\n\u001b[1;32m--> 647\u001b[1;33m         \u001b[0mself\u001b[0m\u001b[1;33m,\u001b[0m \u001b[0mother\u001b[0m \u001b[1;33m=\u001b[0m \u001b[0m_align_method_FRAME\u001b[0m\u001b[1;33m(\u001b[0m\u001b[0mself\u001b[0m\u001b[1;33m,\u001b[0m \u001b[0mother\u001b[0m\u001b[1;33m,\u001b[0m \u001b[0maxis\u001b[0m\u001b[1;33m,\u001b[0m \u001b[0mflex\u001b[0m\u001b[1;33m=\u001b[0m\u001b[1;32mTrue\u001b[0m\u001b[1;33m,\u001b[0m \u001b[0mlevel\u001b[0m\u001b[1;33m=\u001b[0m\u001b[0mlevel\u001b[0m\u001b[1;33m)\u001b[0m\u001b[1;33m\u001b[0m\u001b[1;33m\u001b[0m\u001b[0m\n\u001b[0m\u001b[0;32m    648\u001b[0m \u001b[1;33m\u001b[0m\u001b[0m\n\u001b[0;32m    649\u001b[0m         \u001b[1;32mif\u001b[0m \u001b[0misinstance\u001b[0m\u001b[1;33m(\u001b[0m\u001b[0mother\u001b[0m\u001b[1;33m,\u001b[0m \u001b[0mABCDataFrame\u001b[0m\u001b[1;33m)\u001b[0m\u001b[1;33m:\u001b[0m\u001b[1;33m\u001b[0m\u001b[1;33m\u001b[0m\u001b[0m\n",
      "\u001b[1;32mD:\\Python\\anaconda\\lib\\site-packages\\pandas\\core\\ops\\__init__.py\u001b[0m in \u001b[0;36m_align_method_FRAME\u001b[1;34m(left, right, axis, flex, level)\u001b[0m\n\u001b[0;32m    488\u001b[0m \u001b[1;33m\u001b[0m\u001b[0m\n\u001b[0;32m    489\u001b[0m             \u001b[1;32melse\u001b[0m\u001b[1;33m:\u001b[0m\u001b[1;33m\u001b[0m\u001b[1;33m\u001b[0m\u001b[0m\n\u001b[1;32m--> 490\u001b[1;33m                 raise ValueError(\n\u001b[0m\u001b[0;32m    491\u001b[0m                     \u001b[1;34m\"Unable to coerce to DataFrame, shape \"\u001b[0m\u001b[1;33m\u001b[0m\u001b[1;33m\u001b[0m\u001b[0m\n\u001b[0;32m    492\u001b[0m                     \u001b[1;34mf\"must be {left.shape}: given {right.shape}\"\u001b[0m\u001b[1;33m\u001b[0m\u001b[1;33m\u001b[0m\u001b[0m\n",
      "\u001b[1;31mValueError\u001b[0m: Unable to coerce to DataFrame, shape must be (47, 3): given (3, 1)"
     ]
    }
   ],
   "source": [
    "computeCost(X, y,theta)"
   ]
  },
  {
   "cell_type": "code",
   "execution_count": null,
   "metadata": {},
   "outputs": [],
   "source": []
  }
 ]
}