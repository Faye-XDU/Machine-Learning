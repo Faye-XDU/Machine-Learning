{
 "metadata": {
  "language_info": {
   "codemirror_mode": {
    "name": "ipython",
    "version": 3
   },
   "file_extension": ".py",
   "mimetype": "text/x-python",
   "name": "python",
   "nbconvert_exporter": "python",
   "pygments_lexer": "ipython3",
   "version": "3.8.5-final"
  },
  "orig_nbformat": 2,
  "kernelspec": {
   "name": "python385jvsc74a57bd03a7f06e26b97504ace829d77b47f549c1e37af19430c393db5bae45ebbfa637e",
   "display_name": "Python 3.8.5 64-bit (conda)"
  }
 },
 "nbformat": 4,
 "nbformat_minor": 2,
 "cells": [
  {
   "source": [
    "# 机器学习练习 4 - 神经网络"
   ],
   "cell_type": "markdown",
   "metadata": {}
  },
  {
   "cell_type": "code",
   "execution_count": 1,
   "metadata": {},
   "outputs": [],
   "source": [
    "import numpy as np\n",
    "import pandas as pd\n",
    "import matplotlib.pyplot as plt\n",
    "from scipy.io import loadmat\n",
    "from sklearn.preprocessing import OneHotEncoder"
   ]
  },
  {
   "cell_type": "code",
   "execution_count": 2,
   "metadata": {},
   "outputs": [],
   "source": [
    "np.random.seed()\n",
    "data = loadmat('ex4data1.mat')\n",
    "X = data['X']\n",
    "y = data['y']\n",
    "X = pd.DataFrame(X)\n",
    "y = pd.DataFrame(y)\n",
    "X = X.sample(n=500, replace=False, random_state=1, axis=0)\n",
    "y = y.sample(n=500, replace=False, random_state=1, axis=0)\n",
    "hidden_num = 25\n",
    "alpha = 1"
   ]
  },
  {
   "cell_type": "code",
   "execution_count": 3,
   "metadata": {},
   "outputs": [
    {
     "output_type": "execute_result",
     "data": {
      "text/plain": [
       "(500, 10)"
      ]
     },
     "metadata": {},
     "execution_count": 3
    }
   ],
   "source": [
    "encoder = OneHotEncoder(sparse=False)\n",
    "y_onehot = encoder.fit_transform(y)\n",
    "y = y_onehot  \n",
    "y_onehot.shape"
   ]
  },
  {
   "cell_type": "code",
   "execution_count": 4,
   "metadata": {},
   "outputs": [],
   "source": [
    "theta = (np.random.random(size = hidden_num * (X.shape[1] + 1) + y.shape[1] * (hidden_num + 1)) - 0.5) * 0.25"
   ]
  },
  {
   "source": [
    "# Backpropagation"
   ],
   "cell_type": "markdown",
   "metadata": {}
  },
  {
   "cell_type": "code",
   "execution_count": 16,
   "metadata": {},
   "outputs": [],
   "source": [
    "def sigmoid(z):\n",
    "    return 1 / (1 + np.exp(-z))\n",
    "def sigmoidDerivative(z):\n",
    "    return np.multiply(sigmoid(z), (1 - sigmoid(z)))\n",
    "    "
   ]
  },
  {
   "cell_type": "code",
   "execution_count": 30,
   "metadata": {},
   "outputs": [],
   "source": [
    "def BP(theta, X, y, hidden_num, alpha):\n",
    "\n",
    "    '''\n",
    "    Matrixing\n",
    "    '''\n",
    "    X = np.matrix(X)\n",
    "    y = np.matrix(y)\n",
    "    theta = np.matrix(theta)\n",
    "\n",
    "    '''\n",
    "    Expanding theta\n",
    "    '''\n",
    "    theta1 = np.reshape(theta[:, :hidden_num * (X.shape[1] + 1)], (hidden_num, X.shape[1] + 1))\n",
    "    theta2 = np.reshape(theta[:, hidden_num * (X.shape[1] + 1):], (y.shape[1] , (hidden_num + 1)))\n",
    "\n",
    "    '''\n",
    "    Forward Propagation\n",
    "    '''\n",
    "    z1 = X\n",
    "    a1 = np.insert(z1, 0, values=np.ones(X.shape[0]), axis=1)\n",
    "    z2 = a1 * theta1.T\n",
    "    a2 = sigmoid(z2)\n",
    "    a2 = np.insert(a2, 0, values=np.ones(X.shape[0]), axis=1)\n",
    "    z3 = a2 * theta2.T\n",
    "    a3 = sigmoid(z3)\n",
    "\n",
    "    '''\n",
    "    Cost Function\n",
    "    '''\n",
    "    cos =np.multiply(-y, np.log(sigmoid(a2 * theta2.T))) - np.multiply((1 - y), np.log(1 - sigmoid(a2 * theta2.T)))\n",
    "    reg = np.sum(np.power(theta2, 2)) * (alpha / (2 * len(a2))) + np.sum(np.power(theta1, 2)) * (alpha / len(z1))\n",
    "    Cost = np.sum(cos) / len(X) + reg\n",
    "    \n",
    "    \n",
    "    '''\n",
    "    BackPropagation\n",
    "    '''\n",
    "    delta1 = np.zeros((hidden_num, X.shape[1] + 1))\n",
    "    delta2 = np.zeros((y.shape[1], hidden_num + 1))\n",
    "    for i in range(X.shape[0]):\n",
    "        x_i = X[i, :]\n",
    "        y_i = y[i, :]\n",
    "\n",
    "        a1 = a1[i, :]\n",
    "        a2 = a2[i, :]\n",
    "        a3 = a3[i, :]\n",
    "        z2 = np.insert(z2[i, :], 0, values=np.ones(1), axis=1) #(1, 26)\n",
    "\n",
    "        d3 = y_i - a3 #(1, 10)\n",
    "        d2 = np.multiply((theta2.T * d3.T).T, sigmoidDerivative(z2)) #(1, 26)\n",
    "        d2 = d2[:, 1:]\n",
    "        #z2本不要加偏置\n",
    "\n",
    "        delta1 += (d2.T * a1)\n",
    "        delta2 += (d3.T * a2)\n",
    "\n",
    "        # if i % 50 == 0:\n",
    "            # print(delta1, delta2)\n",
    "\n",
    "    delta1 = delta1 / len(X)\n",
    "    delat2 = delat2 / len(X)\n",
    "    # print(delta1, delat2)\n",
    "\n",
    "    grad = np.concatenate(np.ravel(delta1), np.ravel(delat2))\n",
    "    return Cost, grad\n",
    "\n"
   ]
  },
  {
   "source": [
    "反向传播计算的最难的部分（除了理解为什么我们正在做所有这些计算）是获得正确矩阵维度。 顺便说一下，你容易混淆了A * B与np.multiply（A，B）使用。 基本上前者是矩阵乘法，后者是元素乘法（除非A或B是标量值，在这种情况下没关系）\n",
    "     "
   ],
   "cell_type": "markdown",
   "metadata": {}
  },
  {
   "cell_type": "code",
   "execution_count": 31,
   "metadata": {},
   "outputs": [
    {
     "output_type": "error",
     "ename": "IndexError",
     "evalue": "index 1 is out of bounds for axis 0 with size 1",
     "traceback": [
      "\u001b[1;31m---------------------------------------------------------------------------\u001b[0m",
      "\u001b[1;31mIndexError\u001b[0m                                Traceback (most recent call last)",
      "\u001b[1;32m<ipython-input-31-fb6337ab897e>\u001b[0m in \u001b[0;36m<module>\u001b[1;34m\u001b[0m\n\u001b[1;32m----> 1\u001b[1;33m \u001b[0mJ\u001b[0m\u001b[1;33m,\u001b[0m \u001b[0mgrad\u001b[0m \u001b[1;33m=\u001b[0m \u001b[0mBP\u001b[0m\u001b[1;33m(\u001b[0m\u001b[0mtheta\u001b[0m\u001b[1;33m,\u001b[0m \u001b[0mX\u001b[0m\u001b[1;33m,\u001b[0m \u001b[0my\u001b[0m\u001b[1;33m,\u001b[0m \u001b[0mhidden_num\u001b[0m\u001b[1;33m,\u001b[0m \u001b[0malpha\u001b[0m\u001b[1;33m)\u001b[0m\u001b[1;33m\u001b[0m\u001b[1;33m\u001b[0m\u001b[0m\n\u001b[0m\u001b[0;32m      2\u001b[0m \u001b[0mgrad\u001b[0m\u001b[1;33m.\u001b[0m\u001b[0mshape\u001b[0m\u001b[1;33m\u001b[0m\u001b[1;33m\u001b[0m\u001b[0m\n",
      "\u001b[1;32m<ipython-input-30-f78c9f9031dd>\u001b[0m in \u001b[0;36mBP\u001b[1;34m(theta, X, y, hidden_num, alpha)\u001b[0m\n\u001b[0;32m     42\u001b[0m         \u001b[0my_i\u001b[0m \u001b[1;33m=\u001b[0m \u001b[0my\u001b[0m\u001b[1;33m[\u001b[0m\u001b[0mi\u001b[0m\u001b[1;33m,\u001b[0m \u001b[1;33m:\u001b[0m\u001b[1;33m]\u001b[0m\u001b[1;33m\u001b[0m\u001b[1;33m\u001b[0m\u001b[0m\n\u001b[0;32m     43\u001b[0m \u001b[1;33m\u001b[0m\u001b[0m\n\u001b[1;32m---> 44\u001b[1;33m         \u001b[0ma1\u001b[0m \u001b[1;33m=\u001b[0m \u001b[0ma1\u001b[0m\u001b[1;33m[\u001b[0m\u001b[0mi\u001b[0m\u001b[1;33m,\u001b[0m \u001b[1;33m:\u001b[0m\u001b[1;33m]\u001b[0m\u001b[1;33m\u001b[0m\u001b[1;33m\u001b[0m\u001b[0m\n\u001b[0m\u001b[0;32m     45\u001b[0m         \u001b[0ma2\u001b[0m \u001b[1;33m=\u001b[0m \u001b[0ma2\u001b[0m\u001b[1;33m[\u001b[0m\u001b[0mi\u001b[0m\u001b[1;33m,\u001b[0m \u001b[1;33m:\u001b[0m\u001b[1;33m]\u001b[0m\u001b[1;33m\u001b[0m\u001b[1;33m\u001b[0m\u001b[0m\n\u001b[0;32m     46\u001b[0m         \u001b[0ma3\u001b[0m \u001b[1;33m=\u001b[0m \u001b[0ma3\u001b[0m\u001b[1;33m[\u001b[0m\u001b[0mi\u001b[0m\u001b[1;33m,\u001b[0m \u001b[1;33m:\u001b[0m\u001b[1;33m]\u001b[0m\u001b[1;33m\u001b[0m\u001b[1;33m\u001b[0m\u001b[0m\n",
      "\u001b[1;32mD:\\Python\\anaconda\\lib\\site-packages\\numpy\\matrixlib\\defmatrix.py\u001b[0m in \u001b[0;36m__getitem__\u001b[1;34m(self, index)\u001b[0m\n\u001b[0;32m    191\u001b[0m \u001b[1;33m\u001b[0m\u001b[0m\n\u001b[0;32m    192\u001b[0m         \u001b[1;32mtry\u001b[0m\u001b[1;33m:\u001b[0m\u001b[1;33m\u001b[0m\u001b[1;33m\u001b[0m\u001b[0m\n\u001b[1;32m--> 193\u001b[1;33m             \u001b[0mout\u001b[0m \u001b[1;33m=\u001b[0m \u001b[0mN\u001b[0m\u001b[1;33m.\u001b[0m\u001b[0mndarray\u001b[0m\u001b[1;33m.\u001b[0m\u001b[0m__getitem__\u001b[0m\u001b[1;33m(\u001b[0m\u001b[0mself\u001b[0m\u001b[1;33m,\u001b[0m \u001b[0mindex\u001b[0m\u001b[1;33m)\u001b[0m\u001b[1;33m\u001b[0m\u001b[1;33m\u001b[0m\u001b[0m\n\u001b[0m\u001b[0;32m    194\u001b[0m         \u001b[1;32mfinally\u001b[0m\u001b[1;33m:\u001b[0m\u001b[1;33m\u001b[0m\u001b[1;33m\u001b[0m\u001b[0m\n\u001b[0;32m    195\u001b[0m             \u001b[0mself\u001b[0m\u001b[1;33m.\u001b[0m\u001b[0m_getitem\u001b[0m \u001b[1;33m=\u001b[0m \u001b[1;32mFalse\u001b[0m\u001b[1;33m\u001b[0m\u001b[1;33m\u001b[0m\u001b[0m\n",
      "\u001b[1;31mIndexError\u001b[0m: index 1 is out of bounds for axis 0 with size 1"
     ]
    }
   ],
   "source": [
    "J, grad = BP(theta, X, y, hidden_num, alpha)\n",
    "grad.shape"
   ]
  },
  {
   "cell_type": "code",
   "execution_count": null,
   "metadata": {},
   "outputs": [],
   "source": []
  }
 ]
}