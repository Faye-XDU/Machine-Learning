{
 "metadata": {
  "language_info": {
   "codemirror_mode": {
    "name": "ipython",
    "version": 3
   },
   "file_extension": ".py",
   "mimetype": "text/x-python",
   "name": "python",
   "nbconvert_exporter": "python",
   "pygments_lexer": "ipython3",
   "version": "3.8.5-final"
  },
  "orig_nbformat": 2,
  "kernelspec": {
   "name": "python385jvsc74a57bd03a7f06e26b97504ace829d77b47f549c1e37af19430c393db5bae45ebbfa637e",
   "display_name": "Python 3.8.5 64-bit (conda)"
  }
 },
 "nbformat": 4,
 "nbformat_minor": 2,
 "cells": [
  {
   "source": [
    "# 机器学习练习 4 - 神经网络"
   ],
   "cell_type": "markdown",
   "metadata": {}
  },
  {
   "cell_type": "code",
   "execution_count": 31,
   "metadata": {},
   "outputs": [],
   "source": [
    "import numpy as np\n",
    "import pandas as pd\n",
    "import matplotlib.pyplot as plt\n",
    "import matplotlib\n",
    "from scipy.io import loadmat\n",
    "from sklearn.preprocessing import OneHotEncoder\n",
    "from scipy.optimize import minimize\n",
    "from sklearn.manifold import TSNE\n",
    "from sklearn.datasets import load_iris,load_digits\n",
    "from sklearn.decomposition import PCA\n",
    "import os"
   ]
  },
  {
   "cell_type": "code",
   "execution_count": 32,
   "metadata": {},
   "outputs": [],
   "source": [
    "np.random.seed()\n",
    "data = loadmat('ex4data1.mat')\n",
    "X = data['X']\n",
    "y = data['y']\n",
    "X = pd.DataFrame(X)\n",
    "y = pd.DataFrame(y)\n",
    "X = X.sample(n=500, replace=False, random_state=1, axis=0)\n",
    "y = y.sample(n=500, replace=False, random_state=1, axis=0)\n",
    "hidden_num = 25\n",
    "alpha = 1"
   ]
  },
  {
   "cell_type": "code",
   "execution_count": 45,
   "metadata": {},
   "outputs": [],
   "source": [
    "def plot_100_image(X):\n",
    "    \"\"\" sample 100 image and show them\n",
    "    assume the image is square\n",
    "\n",
    "    X : (5000, 400)\n",
    "    \"\"\"\n",
    "    size = int(np.sqrt(X.shape[1]))\n",
    "    # sample 100 image, reshape, reorg it\n",
    "    sample_idx = np.random.choice(np.arange(X.shape[0]), 100)  # 100*400\n",
    "    sample_images = X[sample_idx, :]\n",
    "\n",
    "    fig, ax_array = plt.subplots(nrows=10, ncols=10, sharey=True, sharex=True, figsize=(8, 8))\n",
    "\n",
    "    for r in range(10):\n",
    "        for c in range(10):\n",
    "            ax_array[r, c].matshow(sample_images[10 * r + c].reshape((size, size)),\n",
    "                                   cmap=matplotlib.cm.binary)\n",
    "            plt.xticks(np.array([]))\n",
    "            plt.yticks(np.array([]))\n"
   ]
  },
  {
   "cell_type": "code",
   "execution_count": 46,
   "metadata": {},
   "outputs": [
    {
     "output_type": "error",
     "ename": "KeyError",
     "evalue": "(array([252, 158, 480, 253, 402,  43, 120, 462, 214, 105, 370, 427, 396,\n       127, 471, 469, 321, 233, 180, 298, 289, 481, 168,  28, 209, 186,\n       416, 261, 384, 169, 332, 491, 123,   7, 335, 284, 254,   1,  23,\n        58,  24, 134, 181, 421,  32, 311, 289, 173, 369, 377, 134, 342,\n       387, 307, 403, 284, 141,   3, 278, 322, 217, 392, 386, 177, 375,\n        96, 247, 155,  18, 389, 164, 236, 180, 367, 343, 282,  78, 365,\n       378,  89, 224, 227, 400, 439,  32,  31, 331, 255, 191, 437, 373,\n       284, 299, 456, 370, 264, 408, 397, 351, 137]), slice(None, None, None))",
     "traceback": [
      "\u001b[1;31m---------------------------------------------------------------------------\u001b[0m",
      "\u001b[1;31mKeyError\u001b[0m                                  Traceback (most recent call last)",
      "\u001b[1;32m<ipython-input-46-bfa4b82cc980>\u001b[0m in \u001b[0;36m<module>\u001b[1;34m\u001b[0m\n\u001b[1;32m----> 1\u001b[1;33m \u001b[0mplot_100_image\u001b[0m\u001b[1;33m(\u001b[0m\u001b[0mX\u001b[0m\u001b[1;33m)\u001b[0m\u001b[1;33m\u001b[0m\u001b[1;33m\u001b[0m\u001b[0m\n\u001b[0m\u001b[0;32m      2\u001b[0m \u001b[0mplt\u001b[0m\u001b[1;33m.\u001b[0m\u001b[0mshow\u001b[0m\u001b[1;33m(\u001b[0m\u001b[1;33m)\u001b[0m\u001b[1;33m\u001b[0m\u001b[1;33m\u001b[0m\u001b[0m\n",
      "\u001b[1;32m<ipython-input-45-8216f4a37dcc>\u001b[0m in \u001b[0;36mplot_100_image\u001b[1;34m(X)\u001b[0m\n\u001b[0;32m      8\u001b[0m     \u001b[1;31m# sample 100 image, reshape, reorg it\u001b[0m\u001b[1;33m\u001b[0m\u001b[1;33m\u001b[0m\u001b[1;33m\u001b[0m\u001b[0m\n\u001b[0;32m      9\u001b[0m     \u001b[0msample_idx\u001b[0m \u001b[1;33m=\u001b[0m \u001b[0mnp\u001b[0m\u001b[1;33m.\u001b[0m\u001b[0mrandom\u001b[0m\u001b[1;33m.\u001b[0m\u001b[0mchoice\u001b[0m\u001b[1;33m(\u001b[0m\u001b[0mnp\u001b[0m\u001b[1;33m.\u001b[0m\u001b[0marange\u001b[0m\u001b[1;33m(\u001b[0m\u001b[0mX\u001b[0m\u001b[1;33m.\u001b[0m\u001b[0mshape\u001b[0m\u001b[1;33m[\u001b[0m\u001b[1;36m0\u001b[0m\u001b[1;33m]\u001b[0m\u001b[1;33m)\u001b[0m\u001b[1;33m,\u001b[0m \u001b[1;36m100\u001b[0m\u001b[1;33m)\u001b[0m  \u001b[1;31m# 100*400\u001b[0m\u001b[1;33m\u001b[0m\u001b[1;33m\u001b[0m\u001b[0m\n\u001b[1;32m---> 10\u001b[1;33m     \u001b[0msample_images\u001b[0m \u001b[1;33m=\u001b[0m \u001b[0mX\u001b[0m\u001b[1;33m[\u001b[0m\u001b[0msample_idx\u001b[0m\u001b[1;33m,\u001b[0m \u001b[1;33m:\u001b[0m\u001b[1;33m]\u001b[0m\u001b[1;33m\u001b[0m\u001b[1;33m\u001b[0m\u001b[0m\n\u001b[0m\u001b[0;32m     11\u001b[0m \u001b[1;33m\u001b[0m\u001b[0m\n\u001b[0;32m     12\u001b[0m     \u001b[0mfig\u001b[0m\u001b[1;33m,\u001b[0m \u001b[0max_array\u001b[0m \u001b[1;33m=\u001b[0m \u001b[0mplt\u001b[0m\u001b[1;33m.\u001b[0m\u001b[0msubplots\u001b[0m\u001b[1;33m(\u001b[0m\u001b[0mnrows\u001b[0m\u001b[1;33m=\u001b[0m\u001b[1;36m10\u001b[0m\u001b[1;33m,\u001b[0m \u001b[0mncols\u001b[0m\u001b[1;33m=\u001b[0m\u001b[1;36m10\u001b[0m\u001b[1;33m,\u001b[0m \u001b[0msharey\u001b[0m\u001b[1;33m=\u001b[0m\u001b[1;32mTrue\u001b[0m\u001b[1;33m,\u001b[0m \u001b[0msharex\u001b[0m\u001b[1;33m=\u001b[0m\u001b[1;32mTrue\u001b[0m\u001b[1;33m,\u001b[0m \u001b[0mfigsize\u001b[0m\u001b[1;33m=\u001b[0m\u001b[1;33m(\u001b[0m\u001b[1;36m8\u001b[0m\u001b[1;33m,\u001b[0m \u001b[1;36m8\u001b[0m\u001b[1;33m)\u001b[0m\u001b[1;33m)\u001b[0m\u001b[1;33m\u001b[0m\u001b[1;33m\u001b[0m\u001b[0m\n",
      "\u001b[1;32mD:\\Python\\anaconda\\lib\\site-packages\\pandas\\core\\frame.py\u001b[0m in \u001b[0;36m__getitem__\u001b[1;34m(self, key)\u001b[0m\n\u001b[0;32m   2900\u001b[0m             \u001b[1;32mif\u001b[0m \u001b[0mself\u001b[0m\u001b[1;33m.\u001b[0m\u001b[0mcolumns\u001b[0m\u001b[1;33m.\u001b[0m\u001b[0mnlevels\u001b[0m \u001b[1;33m>\u001b[0m \u001b[1;36m1\u001b[0m\u001b[1;33m:\u001b[0m\u001b[1;33m\u001b[0m\u001b[1;33m\u001b[0m\u001b[0m\n\u001b[0;32m   2901\u001b[0m                 \u001b[1;32mreturn\u001b[0m \u001b[0mself\u001b[0m\u001b[1;33m.\u001b[0m\u001b[0m_getitem_multilevel\u001b[0m\u001b[1;33m(\u001b[0m\u001b[0mkey\u001b[0m\u001b[1;33m)\u001b[0m\u001b[1;33m\u001b[0m\u001b[1;33m\u001b[0m\u001b[0m\n\u001b[1;32m-> 2902\u001b[1;33m             \u001b[0mindexer\u001b[0m \u001b[1;33m=\u001b[0m \u001b[0mself\u001b[0m\u001b[1;33m.\u001b[0m\u001b[0mcolumns\u001b[0m\u001b[1;33m.\u001b[0m\u001b[0mget_loc\u001b[0m\u001b[1;33m(\u001b[0m\u001b[0mkey\u001b[0m\u001b[1;33m)\u001b[0m\u001b[1;33m\u001b[0m\u001b[1;33m\u001b[0m\u001b[0m\n\u001b[0m\u001b[0;32m   2903\u001b[0m             \u001b[1;32mif\u001b[0m \u001b[0mis_integer\u001b[0m\u001b[1;33m(\u001b[0m\u001b[0mindexer\u001b[0m\u001b[1;33m)\u001b[0m\u001b[1;33m:\u001b[0m\u001b[1;33m\u001b[0m\u001b[1;33m\u001b[0m\u001b[0m\n\u001b[0;32m   2904\u001b[0m                 \u001b[0mindexer\u001b[0m \u001b[1;33m=\u001b[0m \u001b[1;33m[\u001b[0m\u001b[0mindexer\u001b[0m\u001b[1;33m]\u001b[0m\u001b[1;33m\u001b[0m\u001b[1;33m\u001b[0m\u001b[0m\n",
      "\u001b[1;32mD:\\Python\\anaconda\\lib\\site-packages\\pandas\\core\\indexes\\range.py\u001b[0m in \u001b[0;36mget_loc\u001b[1;34m(self, key, method, tolerance)\u001b[0m\n\u001b[0;32m    356\u001b[0m                 \u001b[1;32mexcept\u001b[0m \u001b[0mValueError\u001b[0m \u001b[1;32mas\u001b[0m \u001b[0merr\u001b[0m\u001b[1;33m:\u001b[0m\u001b[1;33m\u001b[0m\u001b[1;33m\u001b[0m\u001b[0m\n\u001b[0;32m    357\u001b[0m                     \u001b[1;32mraise\u001b[0m \u001b[0mKeyError\u001b[0m\u001b[1;33m(\u001b[0m\u001b[0mkey\u001b[0m\u001b[1;33m)\u001b[0m \u001b[1;32mfrom\u001b[0m \u001b[0merr\u001b[0m\u001b[1;33m\u001b[0m\u001b[1;33m\u001b[0m\u001b[0m\n\u001b[1;32m--> 358\u001b[1;33m             \u001b[1;32mraise\u001b[0m \u001b[0mKeyError\u001b[0m\u001b[1;33m(\u001b[0m\u001b[0mkey\u001b[0m\u001b[1;33m)\u001b[0m\u001b[1;33m\u001b[0m\u001b[1;33m\u001b[0m\u001b[0m\n\u001b[0m\u001b[0;32m    359\u001b[0m         \u001b[1;32mreturn\u001b[0m \u001b[0msuper\u001b[0m\u001b[1;33m(\u001b[0m\u001b[1;33m)\u001b[0m\u001b[1;33m.\u001b[0m\u001b[0mget_loc\u001b[0m\u001b[1;33m(\u001b[0m\u001b[0mkey\u001b[0m\u001b[1;33m,\u001b[0m \u001b[0mmethod\u001b[0m\u001b[1;33m=\u001b[0m\u001b[0mmethod\u001b[0m\u001b[1;33m,\u001b[0m \u001b[0mtolerance\u001b[0m\u001b[1;33m=\u001b[0m\u001b[0mtolerance\u001b[0m\u001b[1;33m)\u001b[0m\u001b[1;33m\u001b[0m\u001b[1;33m\u001b[0m\u001b[0m\n\u001b[0;32m    360\u001b[0m \u001b[1;33m\u001b[0m\u001b[0m\n",
      "\u001b[1;31mKeyError\u001b[0m: (array([252, 158, 480, 253, 402,  43, 120, 462, 214, 105, 370, 427, 396,\n       127, 471, 469, 321, 233, 180, 298, 289, 481, 168,  28, 209, 186,\n       416, 261, 384, 169, 332, 491, 123,   7, 335, 284, 254,   1,  23,\n        58,  24, 134, 181, 421,  32, 311, 289, 173, 369, 377, 134, 342,\n       387, 307, 403, 284, 141,   3, 278, 322, 217, 392, 386, 177, 375,\n        96, 247, 155,  18, 389, 164, 236, 180, 367, 343, 282,  78, 365,\n       378,  89, 224, 227, 400, 439,  32,  31, 331, 255, 191, 437, 373,\n       284, 299, 456, 370, 264, 408, 397, 351, 137]), slice(None, None, None))"
     ]
    }
   ],
   "source": [
    "plot_100_image(X)\n",
    "plt.show()"
   ]
  },
  {
   "cell_type": "code",
   "execution_count": 5,
   "metadata": {},
   "outputs": [
    {
     "output_type": "execute_result",
     "data": {
      "text/plain": [
       "(500, 10)"
      ]
     },
     "metadata": {},
     "execution_count": 5
    }
   ],
   "source": [
    "encoder = OneHotEncoder(sparse=False)\n",
    "y_onehot = encoder.fit_transform(y)\n",
    "y = y_onehot  \n",
    "y.shape"
   ]
  },
  {
   "cell_type": "code",
   "execution_count": 6,
   "metadata": {},
   "outputs": [],
   "source": [
    "theta = (np.random.random(size = hidden_num * (X.shape[1] + 1) + y.shape[1] * (hidden_num + 1)) - 0.5) * 0.25"
   ]
  },
  {
   "cell_type": "code",
   "execution_count": 7,
   "metadata": {},
   "outputs": [],
   "source": [
    "def forward_propagate(X, theta1, theta2):\n",
    "    m = X.shape[0]\n",
    "    \n",
    "    a1 = np.insert(X, 0, values=np.ones(m), axis=1)\n",
    "    z2 = a1 * theta1.T\n",
    "    a2 = np.insert(sigmoid(z2), 0, values=np.ones(m), axis=1)\n",
    "    z3 = a2 * theta2.T\n",
    "    a3 = sigmoid(z3)\n",
    "    \n",
    "    return a1, z2, a2, z3, a3"
   ]
  },
  {
   "source": [
    "# Backpropagation"
   ],
   "cell_type": "markdown",
   "metadata": {}
  },
  {
   "cell_type": "code",
   "execution_count": 8,
   "metadata": {},
   "outputs": [],
   "source": [
    "def sigmoid(z):\n",
    "    return 1 / (1 + np.exp(-z))\n",
    "def sigmoidDerivative(z):\n",
    "    return np.multiply(sigmoid(z), (1 - sigmoid(z)))\n",
    "    "
   ]
  },
  {
   "cell_type": "code",
   "execution_count": 9,
   "metadata": {},
   "outputs": [],
   "source": [
    "def cost(theta, X, y, hidden_num, alpha):\n",
    "    \n",
    "    '''\n",
    "    Matrixing\n",
    "    '''\n",
    "    m = len(X)\n",
    "    X = np.matrix(X)\n",
    "    y = np.matrix(y)\n",
    "    theta = np.matrix(theta)\n",
    "\n",
    "    '''\n",
    "    Expanding theta\n",
    "    '''\n",
    "    theta1 = np.reshape(theta[:, :hidden_num * (X.shape[1] + 1)], (hidden_num, X.shape[1] + 1)) #(25, 401)\n",
    "    theta2 = np.reshape(theta[:, hidden_num * (X.shape[1] + 1):], (y.shape[1] , (hidden_num + 1)))#(10, 26)\n",
    "\n",
    "    '''\n",
    "    Forward Propagation\n",
    "    '''\n",
    "    z1 = X #(500, 400)\n",
    "    a1 = np.insert(z1, 0, values=np.ones(X.shape[0]), axis=1)#(500, 401)\n",
    "    z2 = a1 * theta1.T\n",
    "    a2 = sigmoid(z2)\n",
    "    a2 = np.insert(a2, 0, values=np.ones(X.shape[0]), axis=1)#(500, 26)\n",
    "    z3 = a2 * theta2.T\n",
    "    a3 = sigmoid(z3) #(500, 10)\n",
    "    '''\n",
    "    Cost Function\n",
    "    '''\n",
    "    J = 0\n",
    "    for i in range(len(X)):\n",
    "        first_term = np.multiply(-y[i,:], np.log(a3[i,:]))\n",
    "        second_term = np.multiply((1 - y[i,:]), np.log(1 - a3[i,:]))\n",
    "        J += np.sum(first_term - second_term)\n",
    "    \n",
    "    J = J / len(X)\n",
    "    return J"
   ]
  },
  {
   "cell_type": "code",
   "execution_count": 10,
   "metadata": {},
   "outputs": [],
   "source": [
    "def BP(theta, X, y, hidden_num, alpha):\n",
    "\n",
    "    '''\n",
    "    Matrixing\n",
    "    '''\n",
    "    m = len(X)\n",
    "    X = np.matrix(X)\n",
    "    y = np.matrix(y)\n",
    "    theta = np.matrix(theta)\n",
    "\n",
    "    '''\n",
    "    Expanding theta\n",
    "    '''\n",
    "    theta1 = np.reshape(theta[:, :hidden_num * (X.shape[1] + 1)], (hidden_num, X.shape[1] + 1)) #(25, 401)\n",
    "    theta2 = np.reshape(theta[:, hidden_num * (X.shape[1] + 1):], (y.shape[1] , (hidden_num + 1)))#(10, 26)\n",
    "\n",
    "\n",
    "    '''\n",
    "    Forward Propagation\n",
    "    '''\n",
    "    z1 = X #(500, 400)\n",
    "    a1 = np.insert(z1, 0, values=np.ones(X.shape[0]), axis=1)#(500, 401)\n",
    "    z2 = a1 * theta1.T\n",
    "    a2 = sigmoid(z2)\n",
    "    a2 = np.insert(a2, 0, values=np.ones(X.shape[0]), axis=1)#(500, 26)\n",
    "    z3 = a2 * theta2.T\n",
    "    a3 = sigmoid(z3) #(500, 10)\n",
    "    # '''\n",
    "    # Cost Function\n",
    "    # '''\n",
    "    # # cos =np.multiply(-y, np.log(sigmoid(a3))) - np.multiply((1 - y), np.log(1 - sigmoid(a3)))\n",
    "    # # reg = np.sum(np.power(theta2, 2)) * (alpha / (2 * len(a2))) + np.sum(np.power(theta1, 2)) * (alpha / len(z1))\n",
    "    # # Cost = np.sum(cos) / len(X) + reg\n",
    "    # J = 0\n",
    "    # for i in range(len(X)):\n",
    "    #     first_term = np.multiply(-y[i,:], np.log(a3[i,:]))\n",
    "    #     second_term = np.multiply((1 - y[i,:]), np.log(1 - a3[i,:]))\n",
    "    #     J += np.sum(first_term - second_term)\n",
    "    \n",
    "    # J = J / len(X)\n",
    "    \n",
    "    '''\n",
    "    BackPropagation\n",
    "    '''\n",
    "    delta1 = np.zeros((hidden_num, X.shape[1] + 1)) #(25, 401)\n",
    "    delta2 = np.zeros((y.shape[1], hidden_num + 1)) #(10, 26)\n",
    "\n",
    "    for i in range(X.shape[0]):\n",
    "        y_i = y[i, :]\n",
    "        a1i = a1[i, :]\n",
    "        a2i = a2[i, :]\n",
    "        a3i = a3[i, :]\n",
    "        z2i = np.insert(z2[i, :], 0, values=np.ones(1), axis=1) #(1, 26)\n",
    "\n",
    "        d3 = a3i - y_i #(1, 10)\n",
    "        d2 = np.multiply((theta2.T * d3.T).T, sigmoidDerivative(z2i)) #(1, 26)\n",
    "        d2 = d2[:, 1:]\n",
    "    \n",
    "\n",
    "        delta1 += (d2.T * a1i)\n",
    "        delta2 += (d3.T * a2i)\n",
    "\n",
    "    delta1 = delta1 / len(X) #(25, 401) \n",
    "    delta2 = delta2 / len(X) #(10, 26)\n",
    "\n",
    "    delta1[:,1:] = delta1[:,1:] + (theta1[:,1:] * alpha) / len(X)\n",
    "    delta2[:,1:] = delta2[:,1:] + (theta2[:,1:] * alpha) / len(X)\n",
    "\n",
    "    grad = np.concatenate((np.ravel(delta1), np.ravel(delta2))) #25 * 401 + 10 * 26\n",
    "    \n",
    "    return grad\n",
    "\n"
   ]
  },
  {
   "cell_type": "code",
   "execution_count": 11,
   "metadata": {},
   "outputs": [
    {
     "output_type": "execute_result",
     "data": {
      "text/plain": [
       "array([5.85526343e-04, 2.04016692e-05, 5.76991816e-05, ...,\n",
       "       2.51506869e-01, 2.48008860e-01, 2.80670120e-01])"
      ]
     },
     "metadata": {},
     "execution_count": 11
    }
   ],
   "source": [
    "grad = BP(theta, X, y, hidden_num, alpha)\n",
    "grad\n"
   ]
  },
  {
   "cell_type": "code",
   "execution_count": 12,
   "metadata": {},
   "outputs": [],
   "source": [
    "def gradientDescent(X, y, hidden_num, theta, epochs, alpha):\n",
    "    X = np.matrix(X)\n",
    "    y = np.matrix(y)\n",
    "    theta = np.matrix(theta)\n",
    "\n",
    "    theta1 = np.reshape(theta[:, :hidden_num * (X.shape[1] + 1)], (hidden_num, X.shape[1] + 1)) #(25, 401)\n",
    "    theta2 = np.reshape(theta[:, hidden_num * (X.shape[1] + 1):], (y.shape[1] , (hidden_num + 1)))#(10, 26)\n",
    "\n",
    "    for i in range(epochs):\n",
    "        grad = BP(theta, X, y, hidden_num, alpha)\n",
    "        theta -= grad * alpha\n",
    "        if i % 50 ==0:\n",
    "            print(cost(theta, X, y, hidden_num, alpha))\n",
    "        else:\n",
    "            cost(theta, X, y, hidden_num, alpha)\n",
    "   \n",
    "    return theta"
   ]
  },
  {
   "cell_type": "code",
   "execution_count": 13,
   "metadata": {},
   "outputs": [],
   "source": [
    "# fmin = minimize(fun=BP, x0=theta, args=(X, y, hidden_num, alpha), method='TNC', jac=True, options={'maxiter':250})\n",
    "# fmin\n",
    "#Cost函数出大问题\n",
    "# If jac is a Boolean and is True, fun is assumed to return and objective and gradient as an (f, g) tuple."
   ]
  },
  {
   "cell_type": "code",
   "execution_count": 14,
   "metadata": {},
   "outputs": [
    {
     "output_type": "stream",
     "name": "stdout",
     "text": [
      "3.374410177810357\n",
      "1.8750708986242741\n",
      "1.1370689871216277\n",
      "0.836335045204263\n",
      "0.6741466790152109\n",
      "0.5735772694524562\n",
      "0.5073664632281857\n",
      "0.46153245362088097\n",
      "0.4285264331575242\n",
      "0.4040550925863933\n"
     ]
    }
   ],
   "source": [
    "theta = gradientDescent(X, y, hidden_num, theta, 500, alpha)\n"
   ]
  },
  {
   "cell_type": "code",
   "execution_count": 15,
   "metadata": {},
   "outputs": [
    {
     "output_type": "stream",
     "name": "stdout",
     "text": [
      "(25, 401) (10, 26)\n"
     ]
    },
    {
     "output_type": "execute_result",
     "data": {
      "text/plain": [
       "(500, 1)"
      ]
     },
     "metadata": {},
     "execution_count": 15
    }
   ],
   "source": [
    "X = np.matrix(X)\n",
    "theta = np.matrix(theta)\n",
    "\n",
    "theta1 = np.matrix(np.reshape(theta[:, :hidden_num * (X.shape[1] + 1)], (hidden_num, X.shape[1] + 1)))\n",
    "theta2 = np.matrix(np.reshape(theta[:, hidden_num * (X.shape[1] + 1):], (y.shape[1] , (hidden_num + 1))))\n",
    "print(theta1.shape, theta2.shape)\n",
    "\n",
    "a1, z2, a2, z3, a3 = forward_propagate(X, theta1, theta2)\n",
    "y_pred = np.array(np.argmax(a3, axis=1) + 1)\n",
    "y_pred.shape"
   ]
  },
  {
   "cell_type": "code",
   "execution_count": 16,
   "metadata": {},
   "outputs": [
    {
     "output_type": "stream",
     "name": "stdout",
     "text": [
      "accuracy = 98.8%\n"
     ]
    }
   ],
   "source": [
    "y = pd.DataFrame(data['y'])\n",
    "y = y.sample(n=500, replace=False, random_state=1, axis=0)\n",
    "y = np.array(y)\n",
    "correct = [1 if a == b else 0 for (a, b) in zip(y_pred, y)]\n",
    "accuracy = (sum(map(int, correct)) / float(len(correct)))\n",
    "print ('accuracy = {0}%'.format(accuracy * 100))"
   ]
  },
  {
   "cell_type": "code",
   "execution_count": null,
   "metadata": {},
   "outputs": [],
   "source": []
  }
 ]
}