{
 "metadata": {
  "language_info": {
   "codemirror_mode": {
    "name": "ipython",
    "version": 3
   },
   "file_extension": ".py",
   "mimetype": "text/x-python",
   "name": "python",
   "nbconvert_exporter": "python",
   "pygments_lexer": "ipython3",
   "version": "3.8.5-final"
  },
  "orig_nbformat": 2,
  "kernelspec": {
   "name": "python385jvsc74a57bd03a7f06e26b97504ace829d77b47f549c1e37af19430c393db5bae45ebbfa637e",
   "display_name": "Python 3.8.5 64-bit (conda)"
  }
 },
 "nbformat": 4,
 "nbformat_minor": 2,
 "cells": [
  {
   "source": [
    "# 机器学习练习 4 - 神经网络"
   ],
   "cell_type": "markdown",
   "metadata": {}
  },
  {
   "cell_type": "code",
   "execution_count": 55,
   "metadata": {},
   "outputs": [],
   "source": [
    "import numpy as np\n",
    "import pandas as pd\n",
    "import matplotlib.pyplot as plt\n",
    "from scipy.io import loadmat\n",
    "from sklearn.preprocessing import OneHotEncoder\n",
    "from scipy.optimize import minimize"
   ]
  },
  {
   "cell_type": "code",
   "execution_count": 56,
   "metadata": {},
   "outputs": [],
   "source": [
    "np.random.seed()\n",
    "data = loadmat('ex4data1.mat')\n",
    "X = data['X']\n",
    "y = data['y']\n",
    "X = pd.DataFrame(X)\n",
    "y = pd.DataFrame(y)\n",
    "X = X.sample(n=500, replace=False, random_state=1, axis=0)\n",
    "y = y.sample(n=500, replace=False, random_state=1, axis=0)\n",
    "hidden_num = 25\n",
    "alpha = 1"
   ]
  },
  {
   "cell_type": "code",
   "execution_count": 57,
   "metadata": {},
   "outputs": [
    {
     "output_type": "execute_result",
     "data": {
      "text/plain": [
       "(500, 10)"
      ]
     },
     "metadata": {},
     "execution_count": 57
    }
   ],
   "source": [
    "encoder = OneHotEncoder(sparse=False)\n",
    "y_onehot = encoder.fit_transform(y)\n",
    "y = y_onehot  \n",
    "y.shape"
   ]
  },
  {
   "cell_type": "code",
   "execution_count": 58,
   "metadata": {},
   "outputs": [],
   "source": [
    "theta = (np.random.random(size = hidden_num * (X.shape[1] + 1) + y.shape[1] * (hidden_num + 1)) - 0.5) * 0.25"
   ]
  },
  {
   "cell_type": "code",
   "execution_count": 59,
   "metadata": {},
   "outputs": [],
   "source": [
    "def forward_propagate(X, theta1, theta2):\n",
    "    m = X.shape[0]\n",
    "    \n",
    "    a1 = np.insert(X, 0, values=np.ones(m), axis=1)\n",
    "    z2 = a1 * theta1.T\n",
    "    a2 = np.insert(sigmoid(z2), 0, values=np.ones(m), axis=1)\n",
    "    z3 = a2 * theta2.T\n",
    "    a3 = sigmoid(z3)\n",
    "    \n",
    "    return a1, z2, a2, z3, a3"
   ]
  },
  {
   "source": [
    "# Backpropagation"
   ],
   "cell_type": "markdown",
   "metadata": {}
  },
  {
   "cell_type": "code",
   "execution_count": 60,
   "metadata": {},
   "outputs": [],
   "source": [
    "def sigmoid(z):\n",
    "    return 1 / (1 + np.exp(-z))\n",
    "def sigmoidDerivative(z):\n",
    "    return np.multiply(sigmoid(z), (1 - sigmoid(z)))\n",
    "    "
   ]
  },
  {
   "cell_type": "code",
   "execution_count": 61,
   "metadata": {},
   "outputs": [],
   "source": [
    "def cost(theta, X, y, hidden_num, alpha):\n",
    "    \n",
    "    '''\n",
    "    Matrixing\n",
    "    '''\n",
    "    m = len(X)\n",
    "    X = np.matrix(X)\n",
    "    y = np.matrix(y)\n",
    "    theta = np.matrix(theta)\n",
    "\n",
    "    '''\n",
    "    Expanding theta\n",
    "    '''\n",
    "    theta1 = np.reshape(theta[:, :hidden_num * (X.shape[1] + 1)], (hidden_num, X.shape[1] + 1)) #(25, 401)\n",
    "    theta2 = np.reshape(theta[:, hidden_num * (X.shape[1] + 1):], (y.shape[1] , (hidden_num + 1)))#(10, 26)\n",
    "\n",
    "    '''\n",
    "    Forward Propagation\n",
    "    '''\n",
    "    z1 = X #(500, 400)\n",
    "    a1 = np.insert(z1, 0, values=np.ones(X.shape[0]), axis=1)#(500, 401)\n",
    "    z2 = a1 * theta1.T\n",
    "    a2 = sigmoid(z2)\n",
    "    a2 = np.insert(a2, 0, values=np.ones(X.shape[0]), axis=1)#(500, 26)\n",
    "    z3 = a2 * theta2.T\n",
    "    a3 = sigmoid(z3) #(500, 10)\n",
    "    '''\n",
    "    Cost Function\n",
    "    '''\n",
    "    J = 0\n",
    "    for i in range(len(X)):\n",
    "        first_term = np.multiply(-y[i,:], np.log(a3[i,:]))\n",
    "        second_term = np.multiply((1 - y[i,:]), np.log(1 - a3[i,:]))\n",
    "        J += np.sum(first_term - second_term)\n",
    "    \n",
    "    J = J / len(X)\n",
    "    return J"
   ]
  },
  {
   "cell_type": "code",
   "execution_count": 62,
   "metadata": {},
   "outputs": [],
   "source": [
    "def BP(theta, X, y, hidden_num, alpha):\n",
    "\n",
    "    '''\n",
    "    Matrixing\n",
    "    '''\n",
    "    m = len(X)\n",
    "    X = np.matrix(X)\n",
    "    y = np.matrix(y)\n",
    "    theta = np.matrix(theta)\n",
    "\n",
    "    '''\n",
    "    Expanding theta\n",
    "    '''\n",
    "    theta1 = np.reshape(theta[:, :hidden_num * (X.shape[1] + 1)], (hidden_num, X.shape[1] + 1)) #(25, 401)\n",
    "    theta2 = np.reshape(theta[:, hidden_num * (X.shape[1] + 1):], (y.shape[1] , (hidden_num + 1)))#(10, 26)\n",
    "\n",
    "\n",
    "    '''\n",
    "    Forward Propagation\n",
    "    '''\n",
    "    z1 = X #(500, 400)\n",
    "    a1 = np.insert(z1, 0, values=np.ones(X.shape[0]), axis=1)#(500, 401)\n",
    "    z2 = a1 * theta1.T\n",
    "    a2 = sigmoid(z2)\n",
    "    a2 = np.insert(a2, 0, values=np.ones(X.shape[0]), axis=1)#(500, 26)\n",
    "    z3 = a2 * theta2.T\n",
    "    a3 = sigmoid(z3) #(500, 10)\n",
    "    # '''\n",
    "    # Cost Function\n",
    "    # '''\n",
    "    # # cos =np.multiply(-y, np.log(sigmoid(a3))) - np.multiply((1 - y), np.log(1 - sigmoid(a3)))\n",
    "    # # reg = np.sum(np.power(theta2, 2)) * (alpha / (2 * len(a2))) + np.sum(np.power(theta1, 2)) * (alpha / len(z1))\n",
    "    # # Cost = np.sum(cos) / len(X) + reg\n",
    "    # J = 0\n",
    "    # for i in range(len(X)):\n",
    "    #     first_term = np.multiply(-y[i,:], np.log(a3[i,:]))\n",
    "    #     second_term = np.multiply((1 - y[i,:]), np.log(1 - a3[i,:]))\n",
    "    #     J += np.sum(first_term - second_term)\n",
    "    \n",
    "    # J = J / len(X)\n",
    "    \n",
    "    '''\n",
    "    BackPropagation\n",
    "    '''\n",
    "    delta1 = np.zeros((hidden_num, X.shape[1] + 1)) #(25, 401)\n",
    "    delta2 = np.zeros((y.shape[1], hidden_num + 1)) #(10, 26)\n",
    "\n",
    "    for i in range(X.shape[0]):\n",
    "        y_i = y[i, :]\n",
    "        a1i = a1[i, :]\n",
    "        a2i = a2[i, :]\n",
    "        a3i = a3[i, :]\n",
    "        z2i = np.insert(z2[i, :], 0, values=np.ones(1), axis=1) #(1, 26)\n",
    "\n",
    "        d3 = a3i - y_i #(1, 10)\n",
    "        d2 = np.multiply((theta2.T * d3.T).T, sigmoidDerivative(z2i)) #(1, 26)\n",
    "        d2 = d2[:, 1:]\n",
    "    \n",
    "\n",
    "        delta1 += (d2.T * a1i)\n",
    "        delta2 += (d3.T * a2i)\n",
    "\n",
    "    delta1 = delta1 / len(X) #(25, 401) \n",
    "    delta2 = delta2 / len(X) #(10, 26)\n",
    "\n",
    "    delta1[:,1:] = delta1[:,1:] + (theta1[:,1:] * alpha) / len(X)\n",
    "    delta2[:,1:] = delta2[:,1:] + (theta2[:,1:] * alpha) / len(X)\n",
    "\n",
    "    grad = np.concatenate((np.ravel(delta1), np.ravel(delta2))) #25 * 401 + 10 * 26\n",
    "    \n",
    "    return grad\n",
    "\n"
   ]
  },
  {
   "cell_type": "code",
   "execution_count": 63,
   "metadata": {},
   "outputs": [
    {
     "output_type": "execute_result",
     "data": {
      "text/plain": [
       "array([3.53762424e-02, 1.33226444e-04, 1.74609224e-05, ...,\n",
       "       2.35778636e-01, 2.58477233e-01, 1.76289089e-01])"
      ]
     },
     "metadata": {},
     "execution_count": 63
    }
   ],
   "source": [
    "grad = BP(theta, X, y, hidden_num, alpha)\n",
    "grad\n"
   ]
  },
  {
   "cell_type": "code",
   "execution_count": 64,
   "metadata": {},
   "outputs": [],
   "source": [
    "def gradientDescent(X, y, hidden_num, theta, epochs, alpha):\n",
    "    X = np.matrix(X)\n",
    "    y = np.matrix(y)\n",
    "    theta = np.matrix(theta)\n",
    "\n",
    "    theta1 = np.reshape(theta[:, :hidden_num * (X.shape[1] + 1)], (hidden_num, X.shape[1] + 1)) #(25, 401)\n",
    "    theta2 = np.reshape(theta[:, hidden_num * (X.shape[1] + 1):], (y.shape[1] , (hidden_num + 1)))#(10, 26)\n",
    "\n",
    "    for i in range(epochs):\n",
    "        grad = BP(theta, X, y, hidden_num, alpha)\n",
    "        theta -= grad * alpha\n",
    "        if i % 50 ==0:\n",
    "            print(cost(theta, X, y, hidden_num, alpha))\n",
    "        else:\n",
    "            cost(theta, X, y, hidden_num, alpha)\n",
    "   \n",
    "    return theta"
   ]
  },
  {
   "cell_type": "code",
   "execution_count": 65,
   "metadata": {},
   "outputs": [],
   "source": [
    "# fmin = minimize(fun=BP, x0=theta, args=(X, y, hidden_num, alpha), method='TNC', jac=True, options={'maxiter':250})\n",
    "# fmin\n",
    "#Cost函数出大问题\n",
    "# If jac is a Boolean and is True, fun is assumed to return and objective and gradient as an (f, g) tuple."
   ]
  },
  {
   "cell_type": "code",
   "execution_count": 66,
   "metadata": {},
   "outputs": [
    {
     "output_type": "stream",
     "name": "stdout",
     "text": [
      "3.4801441877938384\n",
      "1.9263383049571978\n",
      "1.1667591174435124\n",
      "0.8346785131339626\n",
      "0.6623753086847958\n",
      "0.5606437718073181\n",
      "0.4954506281027028\n",
      "0.450836264109867\n",
      "0.41887461625001315\n",
      "0.3953070345161742\n"
     ]
    }
   ],
   "source": [
    "theta = gradientDescent(X, y, hidden_num, theta, 500, alpha)\n"
   ]
  },
  {
   "cell_type": "code",
   "execution_count": 67,
   "metadata": {},
   "outputs": [
    {
     "output_type": "stream",
     "name": "stdout",
     "text": [
      "(25, 401) (10, 26)\n"
     ]
    },
    {
     "output_type": "execute_result",
     "data": {
      "text/plain": [
       "(500, 1)"
      ]
     },
     "metadata": {},
     "execution_count": 67
    }
   ],
   "source": [
    "X = np.matrix(X)\n",
    "theta = np.matrix(theta)\n",
    "\n",
    "theta1 = np.matrix(np.reshape(theta[:, :hidden_num * (X.shape[1] + 1)], (hidden_num, X.shape[1] + 1)))\n",
    "theta2 = np.matrix(np.reshape(theta[:, hidden_num * (X.shape[1] + 1):], (y.shape[1] , (hidden_num + 1))))\n",
    "print(theta1.shape, theta2.shape)\n",
    "\n",
    "a1, z2, a2, z3, a3 = forward_propagate(X, theta1, theta2)\n",
    "y_pred = np.array(np.argmax(a3, axis=1) + 1)\n",
    "y_pred.shape"
   ]
  },
  {
   "cell_type": "code",
   "execution_count": 68,
   "metadata": {},
   "outputs": [
    {
     "output_type": "stream",
     "name": "stdout",
     "text": [
      "accuracy = 98.8%\n"
     ]
    }
   ],
   "source": [
    "y = pd.DataFrame(data['y'])\n",
    "y = y.sample(n=500, replace=False, random_state=1, axis=0)\n",
    "y = np.array(y)\n",
    "correct = [1 if a == b else 0 for (a, b) in zip(y_pred, y)]\n",
    "accuracy = (sum(map(int, correct)) / float(len(correct)))\n",
    "print ('accuracy = {0}%'.format(accuracy * 100))"
   ]
  },
  {
   "cell_type": "code",
   "execution_count": null,
   "metadata": {},
   "outputs": [],
   "source": []
  }
 ]
}