{
 "metadata": {
  "language_info": {
   "codemirror_mode": {
    "name": "ipython",
    "version": 3
   },
   "file_extension": ".py",
   "mimetype": "text/x-python",
   "name": "python",
   "nbconvert_exporter": "python",
   "pygments_lexer": "ipython3",
   "version": "3.8.5-final"
  },
  "orig_nbformat": 2,
  "kernelspec": {
   "name": "python385jvsc74a57bd03a7f06e26b97504ace829d77b47f549c1e37af19430c393db5bae45ebbfa637e",
   "display_name": "Python 3.8.5 64-bit (conda)"
  }
 },
 "nbformat": 4,
 "nbformat_minor": 2,
 "cells": [
  {
   "cell_type": "code",
   "execution_count": 2,
   "metadata": {},
   "outputs": [],
   "source": [
    "import numpy as np\n",
    "import pandas as pd\n",
    "import matplotlib.pyplot as plt\n",
    "import scipy.io as sio"
   ]
  },
  {
   "source": [
    "# Neural Networks"
   ],
   "cell_type": "markdown",
   "metadata": {}
  },
  {
   "source": [
    "## Visualizing the data"
   ],
   "cell_type": "markdown",
   "metadata": {}
  },
  {
   "cell_type": "code",
   "execution_count": 3,
   "metadata": {},
   "outputs": [
    {
     "output_type": "execute_result",
     "data": {
      "text/plain": [
       "<matplotlib.image.AxesImage at 0x286030e61c0>"
      ]
     },
     "metadata": {},
     "execution_count": 3
    },
    {
     "output_type": "display_data",
     "data": {
      "text/plain": "<Figure size 288x288 with 1 Axes>",
      "image/svg+xml": "<?xml version=\"1.0\" encoding=\"utf-8\" standalone=\"no\"?>\r\n<!DOCTYPE svg PUBLIC \"-//W3C//DTD SVG 1.1//EN\"\r\n  \"http://www.w3.org/Graphics/SVG/1.1/DTD/svg11.dtd\">\r\n<!-- Created with matplotlib (https://matplotlib.org/) -->\r\n<svg height=\"257.778125pt\" version=\"1.1\" viewBox=\"0 0 257.325 257.778125\" width=\"257.325pt\" xmlns=\"http://www.w3.org/2000/svg\" xmlns:xlink=\"http://www.w3.org/1999/xlink\">\r\n <metadata>\r\n  <rdf:RDF xmlns:cc=\"http://creativecommons.org/ns#\" xmlns:dc=\"http://purl.org/dc/elements/1.1/\" xmlns:rdf=\"http://www.w3.org/1999/02/22-rdf-syntax-ns#\">\r\n   <cc:Work>\r\n    <dc:type rdf:resource=\"http://purl.org/dc/dcmitype/StillImage\"/>\r\n    <dc:date>2021-04-09T09:48:30.129345</dc:date>\r\n    <dc:format>image/svg+xml</dc:format>\r\n    <dc:creator>\r\n     <cc:Agent>\r\n      <dc:title>Matplotlib v3.3.2, https://matplotlib.org/</dc:title>\r\n     </cc:Agent>\r\n    </dc:creator>\r\n   </cc:Work>\r\n  </rdf:RDF>\r\n </metadata>\r\n <defs>\r\n  <style type=\"text/css\">*{stroke-linecap:butt;stroke-linejoin:round;}</style>\r\n </defs>\r\n <g id=\"figure_1\">\r\n  <g id=\"patch_1\">\r\n   <path d=\"M 0 257.778125 \r\nL 257.325 257.778125 \r\nL 257.325 0 \r\nL 0 0 \r\nz\r\n\" style=\"fill:none;\"/>\r\n  </g>\r\n  <g id=\"axes_1\">\r\n   <g id=\"patch_2\">\r\n    <path d=\"M 26.925 247.078125 \r\nL 250.125 247.078125 \r\nL 250.125 23.878125 \r\nL 26.925 23.878125 \r\nz\r\n\" style=\"fill:#ffffff;\"/>\r\n   </g>\r\n   <g clip-path=\"url(#p4318b06482)\">\r\n    <image height=\"224\" id=\"image45fe530021\" transform=\"scale(1 -1)translate(0 -224)\" width=\"224\" x=\"26.925\" xlink:href=\"data:image/png;base64,\r\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\" y=\"-23.078125\"/>\r\n   </g>\r\n   <g id=\"matplotlib.axis_1\">\r\n    <g id=\"xtick_1\">\r\n     <g id=\"line2d_1\">\r\n      <defs>\r\n       <path d=\"M 0 0 \r\nL 0 3.5 \r\n\" id=\"m32a6265ffb\" style=\"stroke:#000000;stroke-width:0.8;\"/>\r\n      </defs>\r\n      <g>\r\n       <use style=\"stroke:#000000;stroke-width:0.8;\" x=\"32.505\" xlink:href=\"#m32a6265ffb\" y=\"247.078125\"/>\r\n      </g>\r\n     </g>\r\n     <g id=\"line2d_2\">\r\n      <defs>\r\n       <path d=\"M 0 0 \r\nL 0 -3.5 \r\n\" id=\"mde03845d1d\" style=\"stroke:#000000;stroke-width:0.8;\"/>\r\n      </defs>\r\n      <g>\r\n       <use style=\"stroke:#000000;stroke-width:0.8;\" x=\"32.505\" xlink:href=\"#mde03845d1d\" y=\"23.878125\"/>\r\n      </g>\r\n     </g>\r\n     <g id=\"text_1\">\r\n      <!-- 0 -->\r\n      <g transform=\"translate(29.32375 14.798438)scale(0.1 -0.1)\">\r\n       <defs>\r\n        <path d=\"M 31.78125 66.40625 \r\nQ 24.171875 66.40625 20.328125 58.90625 \r\nQ 16.5 51.421875 16.5 36.375 \r\nQ 16.5 21.390625 20.328125 13.890625 \r\nQ 24.171875 6.390625 31.78125 6.390625 \r\nQ 39.453125 6.390625 43.28125 13.890625 \r\nQ 47.125 21.390625 47.125 36.375 \r\nQ 47.125 51.421875 43.28125 58.90625 \r\nQ 39.453125 66.40625 31.78125 66.40625 \r\nz\r\nM 31.78125 74.21875 \r\nQ 44.046875 74.21875 50.515625 64.515625 \r\nQ 56.984375 54.828125 56.984375 36.375 \r\nQ 56.984375 17.96875 50.515625 8.265625 \r\nQ 44.046875 -1.421875 31.78125 -1.421875 \r\nQ 19.53125 -1.421875 13.0625 8.265625 \r\nQ 6.59375 17.96875 6.59375 36.375 \r\nQ 6.59375 54.828125 13.0625 64.515625 \r\nQ 19.53125 74.21875 31.78125 74.21875 \r\nz\r\n\" id=\"DejaVuSans-48\"/>\r\n       </defs>\r\n       <use xlink:href=\"#DejaVuSans-48\"/>\r\n      </g>\r\n     </g>\r\n    </g>\r\n    <g id=\"xtick_2\">\r\n     <g id=\"line2d_3\">\r\n      <g>\r\n       <use style=\"stroke:#000000;stroke-width:0.8;\" x=\"88.305\" xlink:href=\"#m32a6265ffb\" y=\"247.078125\"/>\r\n      </g>\r\n     </g>\r\n     <g id=\"line2d_4\">\r\n      <g>\r\n       <use style=\"stroke:#000000;stroke-width:0.8;\" x=\"88.305\" xlink:href=\"#mde03845d1d\" y=\"23.878125\"/>\r\n      </g>\r\n     </g>\r\n     <g id=\"text_2\">\r\n      <!-- 5 -->\r\n      <g transform=\"translate(85.12375 14.798438)scale(0.1 -0.1)\">\r\n       <defs>\r\n        <path d=\"M 10.796875 72.90625 \r\nL 49.515625 72.90625 \r\nL 49.515625 64.59375 \r\nL 19.828125 64.59375 \r\nL 19.828125 46.734375 \r\nQ 21.96875 47.46875 24.109375 47.828125 \r\nQ 26.265625 48.1875 28.421875 48.1875 \r\nQ 40.625 48.1875 47.75 41.5 \r\nQ 54.890625 34.8125 54.890625 23.390625 \r\nQ 54.890625 11.625 47.5625 5.09375 \r\nQ 40.234375 -1.421875 26.90625 -1.421875 \r\nQ 22.3125 -1.421875 17.546875 -0.640625 \r\nQ 12.796875 0.140625 7.71875 1.703125 \r\nL 7.71875 11.625 \r\nQ 12.109375 9.234375 16.796875 8.0625 \r\nQ 21.484375 6.890625 26.703125 6.890625 \r\nQ 35.15625 6.890625 40.078125 11.328125 \r\nQ 45.015625 15.765625 45.015625 23.390625 \r\nQ 45.015625 31 40.078125 35.4375 \r\nQ 35.15625 39.890625 26.703125 39.890625 \r\nQ 22.75 39.890625 18.8125 39.015625 \r\nQ 14.890625 38.140625 10.796875 36.28125 \r\nz\r\n\" id=\"DejaVuSans-53\"/>\r\n       </defs>\r\n       <use xlink:href=\"#DejaVuSans-53\"/>\r\n      </g>\r\n     </g>\r\n    </g>\r\n    <g id=\"xtick_3\">\r\n     <g id=\"line2d_5\">\r\n      <g>\r\n       <use style=\"stroke:#000000;stroke-width:0.8;\" x=\"144.105\" xlink:href=\"#m32a6265ffb\" y=\"247.078125\"/>\r\n      </g>\r\n     </g>\r\n     <g id=\"line2d_6\">\r\n      <g>\r\n       <use style=\"stroke:#000000;stroke-width:0.8;\" x=\"144.105\" xlink:href=\"#mde03845d1d\" y=\"23.878125\"/>\r\n      </g>\r\n     </g>\r\n     <g id=\"text_3\">\r\n      <!-- 10 -->\r\n      <g transform=\"translate(137.7425 14.798438)scale(0.1 -0.1)\">\r\n       <defs>\r\n        <path d=\"M 12.40625 8.296875 \r\nL 28.515625 8.296875 \r\nL 28.515625 63.921875 \r\nL 10.984375 60.40625 \r\nL 10.984375 69.390625 \r\nL 28.421875 72.90625 \r\nL 38.28125 72.90625 \r\nL 38.28125 8.296875 \r\nL 54.390625 8.296875 \r\nL 54.390625 0 \r\nL 12.40625 0 \r\nz\r\n\" id=\"DejaVuSans-49\"/>\r\n       </defs>\r\n       <use xlink:href=\"#DejaVuSans-49\"/>\r\n       <use x=\"63.623047\" xlink:href=\"#DejaVuSans-48\"/>\r\n      </g>\r\n     </g>\r\n    </g>\r\n    <g id=\"xtick_4\">\r\n     <g id=\"line2d_7\">\r\n      <g>\r\n       <use style=\"stroke:#000000;stroke-width:0.8;\" x=\"199.905\" xlink:href=\"#m32a6265ffb\" y=\"247.078125\"/>\r\n      </g>\r\n     </g>\r\n     <g id=\"line2d_8\">\r\n      <g>\r\n       <use style=\"stroke:#000000;stroke-width:0.8;\" x=\"199.905\" xlink:href=\"#mde03845d1d\" y=\"23.878125\"/>\r\n      </g>\r\n     </g>\r\n     <g id=\"text_4\">\r\n      <!-- 15 -->\r\n      <g transform=\"translate(193.5425 14.798438)scale(0.1 -0.1)\">\r\n       <use xlink:href=\"#DejaVuSans-49\"/>\r\n       <use x=\"63.623047\" xlink:href=\"#DejaVuSans-53\"/>\r\n      </g>\r\n     </g>\r\n    </g>\r\n   </g>\r\n   <g id=\"matplotlib.axis_2\">\r\n    <g id=\"ytick_1\">\r\n     <g id=\"line2d_9\">\r\n      <defs>\r\n       <path d=\"M 0 0 \r\nL -3.5 0 \r\n\" id=\"m89292e30a2\" style=\"stroke:#000000;stroke-width:0.8;\"/>\r\n      </defs>\r\n      <g>\r\n       <use style=\"stroke:#000000;stroke-width:0.8;\" x=\"26.925\" xlink:href=\"#m89292e30a2\" y=\"29.458125\"/>\r\n      </g>\r\n     </g>\r\n     <g id=\"text_5\">\r\n      <!-- 0 -->\r\n      <g transform=\"translate(13.5625 33.257344)scale(0.1 -0.1)\">\r\n       <use xlink:href=\"#DejaVuSans-48\"/>\r\n      </g>\r\n     </g>\r\n    </g>\r\n    <g id=\"ytick_2\">\r\n     <g id=\"line2d_10\">\r\n      <g>\r\n       <use style=\"stroke:#000000;stroke-width:0.8;\" x=\"26.925\" xlink:href=\"#m89292e30a2\" y=\"85.258125\"/>\r\n      </g>\r\n     </g>\r\n     <g id=\"text_6\">\r\n      <!-- 5 -->\r\n      <g transform=\"translate(13.5625 89.057344)scale(0.1 -0.1)\">\r\n       <use xlink:href=\"#DejaVuSans-53\"/>\r\n      </g>\r\n     </g>\r\n    </g>\r\n    <g id=\"ytick_3\">\r\n     <g id=\"line2d_11\">\r\n      <g>\r\n       <use style=\"stroke:#000000;stroke-width:0.8;\" x=\"26.925\" xlink:href=\"#m89292e30a2\" y=\"141.058125\"/>\r\n      </g>\r\n     </g>\r\n     <g id=\"text_7\">\r\n      <!-- 10 -->\r\n      <g transform=\"translate(7.2 144.857344)scale(0.1 -0.1)\">\r\n       <use xlink:href=\"#DejaVuSans-49\"/>\r\n       <use x=\"63.623047\" xlink:href=\"#DejaVuSans-48\"/>\r\n      </g>\r\n     </g>\r\n    </g>\r\n    <g id=\"ytick_4\">\r\n     <g id=\"line2d_12\">\r\n      <g>\r\n       <use style=\"stroke:#000000;stroke-width:0.8;\" x=\"26.925\" xlink:href=\"#m89292e30a2\" y=\"196.858125\"/>\r\n      </g>\r\n     </g>\r\n     <g id=\"text_8\">\r\n      <!-- 15 -->\r\n      <g transform=\"translate(7.2 200.657344)scale(0.1 -0.1)\">\r\n       <use xlink:href=\"#DejaVuSans-49\"/>\r\n       <use x=\"63.623047\" xlink:href=\"#DejaVuSans-53\"/>\r\n      </g>\r\n     </g>\r\n    </g>\r\n   </g>\r\n   <g id=\"patch_3\">\r\n    <path d=\"M 26.925 247.078125 \r\nL 26.925 23.878125 \r\n\" style=\"fill:none;stroke:#000000;stroke-linecap:square;stroke-linejoin:miter;stroke-width:0.8;\"/>\r\n   </g>\r\n   <g id=\"patch_4\">\r\n    <path d=\"M 250.125 247.078125 \r\nL 250.125 23.878125 \r\n\" style=\"fill:none;stroke:#000000;stroke-linecap:square;stroke-linejoin:miter;stroke-width:0.8;\"/>\r\n   </g>\r\n   <g id=\"patch_5\">\r\n    <path d=\"M 26.925 247.078125 \r\nL 250.125 247.078125 \r\n\" style=\"fill:none;stroke:#000000;stroke-linecap:square;stroke-linejoin:miter;stroke-width:0.8;\"/>\r\n   </g>\r\n   <g id=\"patch_6\">\r\n    <path d=\"M 26.925 23.878125 \r\nL 250.125 23.878125 \r\n\" style=\"fill:none;stroke:#000000;stroke-linecap:square;stroke-linejoin:miter;stroke-width:0.8;\"/>\r\n   </g>\r\n  </g>\r\n </g>\r\n <defs>\r\n  <clipPath id=\"p4318b06482\">\r\n   <rect height=\"223.2\" width=\"223.2\" x=\"26.925\" y=\"23.878125\"/>\r\n  </clipPath>\r\n </defs>\r\n</svg>\r\n",
      "image/png": "[encoded data removed]"
     },
     "metadata": {
      "needs_background": "light"
     }
    }
   ],
   "source": [
    "path = 'ex4data1.mat'\n",
    "data = sio.loadmat(path)\n",
    "X = data['X']\n",
    "y = data['y']\n",
    "rows = X.shape[0]\n",
    "params = X.shape[1]\n",
    "\n",
    "j = np.random.randint(1, 5000)\n",
    "image = np.reshape(X[j, :], (20, 20), 'F') #reshape的方式不同，'F','C'导致了数字的颠倒\n",
    "plt.matshow(image, fignum=1)"
   ]
  },
  {
   "source": [
    "## Model representation"
   ],
   "cell_type": "markdown",
   "metadata": {}
  },
  {
   "cell_type": "code",
   "execution_count": 4,
   "metadata": {},
   "outputs": [],
   "source": [
    "weight = sio.loadmat('ex4weights.mat')\n",
    "theta1 = weight['Theta1']\n",
    "theta2 = weight['Theta2']\n"
   ]
  },
  {
   "cell_type": "code",
   "execution_count": 5,
   "metadata": {},
   "outputs": [],
   "source": [
    "def sigmoid(z):\n",
    "    return 1 / (1 + np.exp(-z))"
   ]
  },
  {
   "cell_type": "code",
   "execution_count": 6,
   "metadata": {},
   "outputs": [
    {
     "output_type": "execute_result",
     "data": {
      "text/plain": [
       "((25, 1), (1, 401), (25, 1))"
      ]
     },
     "metadata": {},
     "execution_count": 6
    }
   ],
   "source": [
    "testX = X[j, :]\n",
    "testX = np.matrix(testX)\n",
    "\n",
    "a_1 = np.insert(testX, 0, 1)\n",
    "z_2 = theta1 * a_1.T\n",
    "a_2 = sigmoid(z_2)\n",
    "a_2.shape, a_1.shape, z_2.shape\n"
   ]
  },
  {
   "cell_type": "code",
   "execution_count": 7,
   "metadata": {},
   "outputs": [
    {
     "output_type": "execute_result",
     "data": {
      "text/plain": [
       "3"
      ]
     },
     "metadata": {},
     "execution_count": 7
    }
   ],
   "source": [
    "a_2 = np.insert(a_2, 0, 1)\n",
    "z_3 = theta2 * a_2.T\n",
    "output = np.array(sigmoid(z_3))\n",
    "predict = np.argmax(output) + 1\n",
    "predict"
   ]
  },
  {
   "cell_type": "code",
   "execution_count": 8,
   "metadata": {},
   "outputs": [
    {
     "output_type": "execute_result",
     "data": {
      "text/plain": [
       "(array([[1],\n",
       "        [2]]),\n",
       " array([[4],\n",
       "        [5]]),\n",
       " array([[ 4],\n",
       "        [10]]))"
      ]
     },
     "metadata": {},
     "execution_count": 8
    }
   ],
   "source": [
    "a = np.arange(1, 3).reshape(2, 1)\n",
    "b = np.arange(4, 6).reshape(2, 1)\n",
    "c = np.multiply(a, b)\n",
    "a, b, c"
   ]
  },
  {
   "cell_type": "code",
   "execution_count": 9,
   "metadata": {},
   "outputs": [
    {
     "output_type": "execute_result",
     "data": {
      "text/plain": [
       "array([1., 1., 1., 1., 1.])"
      ]
     },
     "metadata": {},
     "execution_count": 9
    }
   ],
   "source": [
    "a = np.ones(5)\n",
    "a"
   ]
  },
  {
   "cell_type": "code",
   "execution_count": null,
   "metadata": {},
   "outputs": [],
   "source": []
  }
 ]
}