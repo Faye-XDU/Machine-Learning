{
 "metadata": {
  "language_info": {
   "codemirror_mode": {
    "name": "ipython",
    "version": 3
   },
   "file_extension": ".py",
   "mimetype": "text/x-python",
   "name": "python",
   "nbconvert_exporter": "python",
   "pygments_lexer": "ipython3",
   "version": "3.8.5-final"
  },
  "orig_nbformat": 2,
  "kernelspec": {
   "name": "python385jvsc74a57bd03a7f06e26b97504ace829d77b47f549c1e37af19430c393db5bae45ebbfa637e",
   "display_name": "Python 3.8.5 64-bit (conda)"
  }
 },
 "nbformat": 4,
 "nbformat_minor": 2,
 "cells": [
  {
   "cell_type": "code",
   "execution_count": 49,
   "metadata": {},
   "outputs": [],
   "source": [
    "import numpy as np\n",
    "import pandas as pd\n",
    "import matplotlib.pyplot as plt\n",
    "import scipy.io as sio"
   ]
  },
  {
   "source": [
    "# Neural Networks"
   ],
   "cell_type": "markdown",
   "metadata": {}
  },
  {
   "cell_type": "code",
   "execution_count": 50,
   "metadata": {},
   "outputs": [
    {
     "output_type": "execute_result",
     "data": {
      "text/plain": [
       "(5000, 1)"
      ]
     },
     "metadata": {},
     "execution_count": 50
    }
   ],
   "source": [
    "path = 'ex4data1.mat'\n",
    "data = sio.loadmat(path)\n",
    "X = data['X']\n",
    "y = data['y']\n",
    "rows = X.shape[0]\n",
    "params = X.shape[1]\n",
    "weight = sio.loadmat('ex4weights.mat')\n",
    "theta1 = weight['Theta1']\n",
    "theta2 = weight['Theta2']\n",
    "y.shape"
   ]
  },
  {
   "cell_type": "code",
   "execution_count": 51,
   "metadata": {},
   "outputs": [],
   "source": [
    "def sigmoid(z):\n",
    "    return 1 / (1 + np.exp(-z))"
   ]
  },
  {
   "cell_type": "code",
   "execution_count": 57,
   "metadata": {},
   "outputs": [],
   "source": [
    "def cost(theta, X, y, num_label):\n",
    "    rows = X.shape[0]\n",
    "    params = X.shape[1]\n",
    "    X = np.insert(X, 0, values=np.ones(rows), axis=1)\n",
    "    X = np.matrix(X)\n",
    "    theta = np.matrix(theta)\n",
    "    \n",
    "    New = np.zeros((y.shape[0], num_label))\n",
    "    for i in range(rows):\n",
    "        New[i, y[i] - 1] = 1\n",
    "    y = New\n",
    "\n",
    "    first = np.multiply(-y, np.log(sigmoid(X * theta.T)))\n",
    "    second = np.multiply((1 - y), np.log(1 - sigmoid(X * theta.T)))\n",
    "\n",
    "    return np.sum(first - second) / len(X)\n"
   ]
  },
  {
   "cell_type": "code",
   "execution_count": 59,
   "metadata": {},
   "outputs": [
    {
     "output_type": "execute_result",
     "data": {
      "text/plain": [
       "38.3412479779785"
      ]
     },
     "metadata": {},
     "execution_count": 59
    }
   ],
   "source": [
    "C = cost(theta1, X, y, 25)\n",
    "C"
   ]
  },
  {
   "cell_type": "code",
   "execution_count": null,
   "metadata": {},
   "outputs": [],
   "source": []
  }
 ]
}