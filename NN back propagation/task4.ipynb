{
 "metadata": {
  "language_info": {
   "codemirror_mode": {
    "name": "ipython",
    "version": 3
   },
   "file_extension": ".py",
   "mimetype": "text/x-python",
   "name": "python",
   "nbconvert_exporter": "python",
   "pygments_lexer": "ipython3",
   "version": "3.8.5-final"
  },
  "orig_nbformat": 2,
  "kernelspec": {
   "name": "python385jvsc74a57bd03a7f06e26b97504ace829d77b47f549c1e37af19430c393db5bae45ebbfa637e",
   "display_name": "Python 3.8.5 64-bit (conda)"
  }
 },
 "nbformat": 4,
 "nbformat_minor": 2,
 "cells": [
  {
   "cell_type": "code",
   "execution_count": 246,
   "metadata": {},
   "outputs": [],
   "source": [
    "import numpy as np\n",
    "import pandas as pd\n",
    "import matplotlib.pyplot as plt\n",
    "import scipy.io as sio"
   ]
  },
  {
   "source": [
    "# Neural Networks"
   ],
   "cell_type": "markdown",
   "metadata": {}
  },
  {
   "cell_type": "code",
   "execution_count": 247,
   "metadata": {},
   "outputs": [
    {
     "output_type": "execute_result",
     "data": {
      "text/plain": [
       "(5000, 1)"
      ]
     },
     "metadata": {},
     "execution_count": 247
    }
   ],
   "source": [
    "path = 'ex4data1.mat'\n",
    "data = sio.loadmat(path)\n",
    "X = data['X']\n",
    "y = data['y']\n",
    "rows = X.shape[0]\n",
    "params = X.shape[1]\n",
    "weight = sio.loadmat('ex4weights.mat')\n",
    "theta1 = weight['Theta1']\n",
    "theta2 = weight['Theta2']\n",
    "y.shape"
   ]
  },
  {
   "cell_type": "code",
   "execution_count": 248,
   "metadata": {},
   "outputs": [],
   "source": [
    "def sigmoid(z):\n",
    "    return 1 / (1 + np.exp(-z))"
   ]
  },
  {
   "cell_type": "code",
   "execution_count": 249,
   "metadata": {},
   "outputs": [],
   "source": [
    "def sigmoidGradient(z):\n",
    "    return np.multiply(z, (1 - z))\n"
   ]
  },
  {
   "cell_type": "code",
   "execution_count": 250,
   "metadata": {},
   "outputs": [],
   "source": [
    "def cost(theta1, theta2, X, y, num_label, alpha):\n",
    "    rows = X.shape[0]\n",
    "    params = X.shape[1]\n",
    "    X = np.insert(X, 0, values=np.ones(rows), axis=1)\n",
    "    X = np.matrix(X)\n",
    "    theta1 = np.matrix(theta1)\n",
    "    theta2 = np.matrix(theta2)\n",
    "    A = sigmoid(X * theta1.T)\n",
    "    A = np.insert(A, 0, values=np.ones(rows), axis=1)\n",
    "    A = np.matrix(A)\n",
    "    \n",
    "    New = np.zeros((y.shape[0], 10))\n",
    "    for i in range(rows):\n",
    "        New[i, y[i] - 1] = 1\n",
    "    y = New\n",
    "    # print(A.shape, X.shape)\n",
    "    # first = np.multiply(-y, np.log(sigmoid(X * theta1.T))) - np.multiply((1 - y), np.log(1 - sigmoid(X * theta1.T)))\n",
    "    second =np.multiply(-y, np.log(sigmoid(A * theta2.T))) - np.multiply((1 - y), np.log(1 - sigmoid(A * theta2.T)))\n",
    "\n",
    "    reg = np.sum(np.power(theta2, 2)) * (alpha / (2 * len(A)))\n",
    "    \n",
    "    return (np.sum(second)) / len(X) + reg\n"
   ]
  },
  {
   "cell_type": "code",
   "execution_count": 251,
   "metadata": {},
   "outputs": [
    {
     "output_type": "execute_result",
     "data": {
      "text/plain": [
       "0.3449633357692933"
      ]
     },
     "metadata": {},
     "execution_count": 251
    }
   ],
   "source": [
    "C = cost(theta1, theta2, X, y, 25, 1)\n",
    "C"
   ]
  },
  {
   "source": [
    "# Backpropagation"
   ],
   "cell_type": "markdown",
   "metadata": {}
  },
  {
   "cell_type": "code",
   "execution_count": 252,
   "metadata": {},
   "outputs": [
    {
     "output_type": "execute_result",
     "data": {
      "text/plain": [
       "0"
      ]
     },
     "metadata": {},
     "execution_count": 252
    }
   ],
   "source": [
    "sigmoidGradient(0)"
   ]
  },
  {
   "cell_type": "code",
   "execution_count": 253,
   "metadata": {},
   "outputs": [
    {
     "output_type": "execute_result",
     "data": {
      "text/plain": [
       "((10, 26), (25, 401))"
      ]
     },
     "metadata": {},
     "execution_count": 253
    }
   ],
   "source": [
    "epsilon_init = 0.12\n",
    "alpha = 1\n",
    "L_2 = 25\n",
    "L_3 = 10\n",
    "theta1 = np.matrix(np.random.rand(L_2, X.shape[1] + 1) * (2 * epsilon_init) - epsilon_init)\n",
    "theta2 = np.matrix(np.random.rand(L_3, L_2 + 1) * (2 * epsilon_init) - epsilon_init)\n",
    "theta2.shape, theta1.shape\n"
   ]
  },
  {
   "cell_type": "code",
   "execution_count": 254,
   "metadata": {},
   "outputs": [],
   "source": [
    "def forwardPropagation(A, theta):\n",
    "    return (A.T * theta.T).T\n",
    "def insertfunction(A):\n",
    "    A = np.insert(A, 0, 1, axis=0)\n",
    "    return np.matrix(A)\n",
    "# a_1 = np.matrix(X)\n",
    "# z_2 = forwardPropagation(a_1, theta1)\n",
    "# a_2 = sigmoid(z_2)\n",
    "# z_3 = forwardPropagation(a_2, theta2)\n",
    "# a_3 = sigmoid(z_3)\n",
    "# z_2.shape"
   ]
  },
  {
   "cell_type": "code",
   "execution_count": 255,
   "metadata": {},
   "outputs": [],
   "source": [
    "# New = np.zeros((y.shape[0], 10))\n",
    "# for i in range(rows):\n",
    "#     New[i, y[i] - 1] = 1\n",
    "# y = New\n",
    "# delta3 = a_3 - y\n",
    "# y.shape, delta3.shape"
   ]
  },
  {
   "cell_type": "code",
   "execution_count": 256,
   "metadata": {},
   "outputs": [],
   "source": [
    "def BPfunction(X, y, theta1, theta2):\n",
    "    \n",
    "    for i in range(len(X)):\n",
    "        New = np.zeros((10, 1))\n",
    "        a1 = X[i, :].T\n",
    "        New[y[i] - 1] = 1\n",
    "        y_out = New # .T只是暂时转置，真正转置还是要用reshape\n",
    "\n",
    "        #先转换成列向量！\n",
    "        a1 = insertfunction(a1)\n",
    "        # print(a1.shape)\n",
    "        a1 = np.matrix(a1)\n",
    "        z2 = forwardPropagation(a1.T, theta1) \n",
    "        # print(z2.shape)\n",
    "        a2 = sigmoid(z2)\n",
    "        a2 = insertfunction(a2)\n",
    "        z3 = forwardPropagation(a2, theta2)\n",
    "        a3 = sigmoid(z3)\n",
    "\n",
    "        delta3 = a3 - y_out\n",
    "        # print(delta3.shape)\n",
    "        delta2 = np.multiply(theta2.T * delta3, sigmoidGradient(a2))\n",
    "        # delta2 = np.multiply(theta2.T, delta3.T) * sigmoidGradient(z2)\n",
    "        delta2 = delta2[1 :delta2.shape[0], :]\n",
    "\n",
    "        delta_l2 = delta_l2 + np.multiply(delta3, a2.T)\n",
    "        delta_l1 = delta_l1 + np.multiply(delta2, a1.T)\n",
    "\n",
    "    return np.sum(delta_l1) / len(X), np.sum(delta_l2) / len(X)"
   ]
  },
  {
   "cell_type": "code",
   "execution_count": 257,
   "metadata": {},
   "outputs": [],
   "source": [
    "def gradient(delta, len, alpha, theta):\n",
    "    params = theta.shape[1]\n",
    "    grad = np.zeros((params, 1))\n",
    "    for i in range(1, params):\n",
    "        grad[i, :] = (delta / len) +  (alpha * np.sum(theta))\n",
    "    grad[0, :] = delta / len\n",
    "\n",
    "    return grad\n",
    "    "
   ]
  },
  {
   "cell_type": "code",
   "execution_count": 258,
   "metadata": {
    "tags": []
   },
   "outputs": [
    {
     "output_type": "error",
     "ename": "UnboundLocalError",
     "evalue": "local variable 'delta_l2' referenced before assignment",
     "traceback": [
      "\u001b[1;31m---------------------------------------------------------------------------\u001b[0m",
      "\u001b[1;31mUnboundLocalError\u001b[0m                         Traceback (most recent call last)",
      "\u001b[1;32m<ipython-input-258-97c75fe7a084>\u001b[0m in \u001b[0;36m<module>\u001b[1;34m\u001b[0m\n\u001b[1;32m----> 1\u001b[1;33m \u001b[0mdelta_l1\u001b[0m\u001b[1;33m,\u001b[0m \u001b[0mdelta_l2\u001b[0m \u001b[1;33m=\u001b[0m \u001b[0mBPfunction\u001b[0m\u001b[1;33m(\u001b[0m\u001b[0mX\u001b[0m\u001b[1;33m,\u001b[0m \u001b[0my\u001b[0m\u001b[1;33m,\u001b[0m \u001b[0mtheta1\u001b[0m\u001b[1;33m,\u001b[0m \u001b[0mtheta2\u001b[0m\u001b[1;33m)\u001b[0m\u001b[1;33m\u001b[0m\u001b[1;33m\u001b[0m\u001b[0m\n\u001b[0m\u001b[0;32m      2\u001b[0m \u001b[0mgrad\u001b[0m \u001b[1;33m=\u001b[0m \u001b[0mgradient\u001b[0m\u001b[1;33m(\u001b[0m\u001b[0mdelta_l2\u001b[0m\u001b[1;33m,\u001b[0m \u001b[0mrows\u001b[0m\u001b[1;33m,\u001b[0m \u001b[0malpha\u001b[0m\u001b[1;33m,\u001b[0m \u001b[0mtheta2\u001b[0m\u001b[1;33m)\u001b[0m\u001b[1;33m\u001b[0m\u001b[1;33m\u001b[0m\u001b[0m\n",
      "\u001b[1;32m<ipython-input-256-418d2a0d4938>\u001b[0m in \u001b[0;36mBPfunction\u001b[1;34m(X, y, theta1, theta2)\u001b[0m\n\u001b[0;32m     24\u001b[0m         \u001b[0mdelta2\u001b[0m \u001b[1;33m=\u001b[0m \u001b[0mdelta2\u001b[0m\u001b[1;33m[\u001b[0m\u001b[1;36m1\u001b[0m \u001b[1;33m:\u001b[0m\u001b[0mdelta2\u001b[0m\u001b[1;33m.\u001b[0m\u001b[0mshape\u001b[0m\u001b[1;33m[\u001b[0m\u001b[1;36m0\u001b[0m\u001b[1;33m]\u001b[0m\u001b[1;33m,\u001b[0m \u001b[1;33m:\u001b[0m\u001b[1;33m]\u001b[0m\u001b[1;33m\u001b[0m\u001b[1;33m\u001b[0m\u001b[0m\n\u001b[0;32m     25\u001b[0m \u001b[1;33m\u001b[0m\u001b[0m\n\u001b[1;32m---> 26\u001b[1;33m         \u001b[0mdelta_l2\u001b[0m \u001b[1;33m=\u001b[0m \u001b[0mdelta_l2\u001b[0m \u001b[1;33m+\u001b[0m \u001b[0mnp\u001b[0m\u001b[1;33m.\u001b[0m\u001b[0mmultiply\u001b[0m\u001b[1;33m(\u001b[0m\u001b[0mdelta3\u001b[0m\u001b[1;33m,\u001b[0m \u001b[0ma2\u001b[0m\u001b[1;33m.\u001b[0m\u001b[0mT\u001b[0m\u001b[1;33m)\u001b[0m\u001b[1;33m\u001b[0m\u001b[1;33m\u001b[0m\u001b[0m\n\u001b[0m\u001b[0;32m     27\u001b[0m         \u001b[0mdelta_l1\u001b[0m \u001b[1;33m=\u001b[0m \u001b[0mdelta_l1\u001b[0m \u001b[1;33m+\u001b[0m \u001b[0mnp\u001b[0m\u001b[1;33m.\u001b[0m\u001b[0mmultiply\u001b[0m\u001b[1;33m(\u001b[0m\u001b[0mdelta2\u001b[0m\u001b[1;33m,\u001b[0m \u001b[0ma1\u001b[0m\u001b[1;33m.\u001b[0m\u001b[0mT\u001b[0m\u001b[1;33m)\u001b[0m\u001b[1;33m\u001b[0m\u001b[1;33m\u001b[0m\u001b[0m\n\u001b[0;32m     28\u001b[0m \u001b[1;33m\u001b[0m\u001b[0m\n",
      "\u001b[1;31mUnboundLocalError\u001b[0m: local variable 'delta_l2' referenced before assignment"
     ]
    }
   ],
   "source": [
    "delta_l1, delta_l2 = BPfunction(X, y, theta1, theta2)\n",
    "grad = gradient(delta_l2, rows, alpha, theta2)"
   ]
  },
  {
   "cell_type": "code",
   "execution_count": null,
   "metadata": {},
   "outputs": [],
   "source": []
  }
 ]
}