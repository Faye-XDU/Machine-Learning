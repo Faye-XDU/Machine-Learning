{
 "metadata": {
  "language_info": {
   "codemirror_mode": {
    "name": "ipython",
    "version": 3
   },
   "file_extension": ".py",
   "mimetype": "text/x-python",
   "name": "python",
   "nbconvert_exporter": "python",
   "pygments_lexer": "ipython3",
   "version": "3.8.5-final"
  },
  "orig_nbformat": 2,
  "kernelspec": {
   "name": "python385jvsc74a57bd03a7f06e26b97504ace829d77b47f549c1e37af19430c393db5bae45ebbfa637e",
   "display_name": "Python 3.8.5 64-bit (conda)"
  }
 },
 "nbformat": 4,
 "nbformat_minor": 2,
 "cells": [
  {
   "cell_type": "code",
   "execution_count": 149,
   "metadata": {},
   "outputs": [],
   "source": [
    "import numpy as np\n",
    "import pandas as pd\n",
    "import matplotlib.pyplot as plt\n",
    "import scipy.io as sio"
   ]
  },
  {
   "source": [
    "# Neural Networks"
   ],
   "cell_type": "markdown",
   "metadata": {}
  },
  {
   "cell_type": "code",
   "execution_count": 150,
   "metadata": {},
   "outputs": [
    {
     "output_type": "execute_result",
     "data": {
      "text/plain": [
       "(5000, 1)"
      ]
     },
     "metadata": {},
     "execution_count": 150
    }
   ],
   "source": [
    "path = 'ex4data1.mat'\n",
    "data = sio.loadmat(path)\n",
    "X = data['X']\n",
    "y = data['y']\n",
    "rows = X.shape[0]\n",
    "params = X.shape[1]\n",
    "weight = sio.loadmat('ex4weights.mat')\n",
    "theta1 = weight['Theta1']\n",
    "theta2 = weight['Theta2']\n",
    "y.shape"
   ]
  },
  {
   "cell_type": "code",
   "execution_count": 151,
   "metadata": {},
   "outputs": [],
   "source": [
    "def sigmoid(z):\n",
    "    return 1 / (1 + np.exp(-z))"
   ]
  },
  {
   "cell_type": "code",
   "execution_count": 152,
   "metadata": {},
   "outputs": [],
   "source": [
    "def sigmoidGradient(z):\n",
    "    return np.multiply(sigmoid(z), (1 - sigmoid(z)))\n"
   ]
  },
  {
   "cell_type": "code",
   "execution_count": 153,
   "metadata": {},
   "outputs": [],
   "source": [
    "def cost(theta1, theta2, X, y, num_label, alpha):\n",
    "    rows = X.shape[0]\n",
    "    params = X.shape[1]\n",
    "    X = np.insert(X, 0, values=np.ones(rows), axis=1)\n",
    "    X = np.matrix(X)\n",
    "    theta1 = np.matrix(theta1)\n",
    "    theta2 = np.matrix(theta2)\n",
    "    A = sigmoid(X * theta1.T)\n",
    "    A = np.insert(A, 0, values=np.ones(rows), axis=1)\n",
    "    A = np.matrix(A)\n",
    "    \n",
    "    New = np.zeros((y.shape[0], 10))\n",
    "    for i in range(rows):\n",
    "        New[i, y[i] - 1] = 1\n",
    "    y = New\n",
    "    # print(A.shape, X.shape)\n",
    "    # first = np.multiply(-y, np.log(sigmoid(X * theta1.T))) - np.multiply((1 - y), np.log(1 - sigmoid(X * theta1.T)))\n",
    "    second =np.multiply(-y, np.log(sigmoid(A * theta2.T))) - np.multiply((1 - y), np.log(1 - sigmoid(A * theta2.T)))\n",
    "\n",
    "    reg = np.sum(np.power(theta2, 2)) * (alpha / (2 * len(A)))\n",
    "    \n",
    "    return (np.sum(second)) / len(X) + reg\n"
   ]
  },
  {
   "cell_type": "code",
   "execution_count": 154,
   "metadata": {},
   "outputs": [
    {
     "output_type": "execute_result",
     "data": {
      "text/plain": [
       "0.3449633357692933"
      ]
     },
     "metadata": {},
     "execution_count": 154
    }
   ],
   "source": [
    "C = cost(theta1, theta2, X, y, 25, 1)\n",
    "C"
   ]
  },
  {
   "source": [
    "# Backpropagation"
   ],
   "cell_type": "markdown",
   "metadata": {}
  },
  {
   "cell_type": "code",
   "execution_count": 155,
   "metadata": {},
   "outputs": [
    {
     "output_type": "execute_result",
     "data": {
      "text/plain": [
       "0.25"
      ]
     },
     "metadata": {},
     "execution_count": 155
    }
   ],
   "source": [
    "sigmoidGradient(0)"
   ]
  },
  {
   "cell_type": "code",
   "execution_count": 156,
   "metadata": {},
   "outputs": [
    {
     "output_type": "execute_result",
     "data": {
      "text/plain": [
       "((10, 26), (25, 401))"
      ]
     },
     "metadata": {},
     "execution_count": 156
    }
   ],
   "source": [
    "epsilon_init = 0.12\n",
    "L_2 = 25\n",
    "L_3 = 10\n",
    "theta1 = np.matrix(np.random.rand(L_2, X.shape[1] + 1) * (2 * epsilon_init) - epsilon_init)\n",
    "theta2 = np.matrix(np.random.rand(L_3, L_2 + 1) * (2 * epsilon_init) - epsilon_init)\n",
    "theta2.shape, theta1.shape\n"
   ]
  },
  {
   "cell_type": "code",
   "execution_count": 157,
   "metadata": {},
   "outputs": [],
   "source": [
    "def forwardPropagation(A, theta):\n",
    "    return (A.T * theta.T).T\n",
    "def insertfunction(A):\n",
    "    A = np.insert(A, 0, 1, axis=0)\n",
    "    return np.matrix(A)\n",
    "# a_1 = np.matrix(X)\n",
    "# z_2 = forwardPropagation(a_1, theta1)\n",
    "# a_2 = sigmoid(z_2)\n",
    "# z_3 = forwardPropagation(a_2, theta2)\n",
    "# a_3 = sigmoid(z_3)\n",
    "# z_2.shape"
   ]
  },
  {
   "cell_type": "code",
   "execution_count": 158,
   "metadata": {},
   "outputs": [],
   "source": [
    "# New = np.zeros((y.shape[0], 10))\n",
    "# for i in range(rows):\n",
    "#     New[i, y[i] - 1] = 1\n",
    "# y = New\n",
    "# delta3 = a_3 - y\n",
    "# y.shape, delta3.shape"
   ]
  },
  {
   "cell_type": "code",
   "execution_count": 177,
   "metadata": {},
   "outputs": [],
   "source": [
    "def BPfunction(X, y, theta1, theta2, alpha):\n",
    "    New = np.zeros((y.shape[0], 10))\n",
    "    for i in range(rows):\n",
    "        New[i, y[i] - 1] = 1\n",
    "    y = New.T\n",
    "\n",
    "    for i in range(len(X)):\n",
    "        a1 = X[i, :].T\n",
    "        y = y[:, i]\n",
    "        print(y)\n",
    "        #先转换成列向量！\n",
    "        a1 = insertfunction(a1)\n",
    "        # print(a1.shape)\n",
    "        a1 = np.matrix(a1)\n",
    "        z2 = forwardPropagation(a1.T, theta1) \n",
    "        print(z2.shape)\n",
    "        a2 = sigmoid(z2)\n",
    "        a2 = insertfunction(a2)\n",
    "        z3 = forwardPropagation(a2, theta2)\n",
    "        a3 = sigmoid(z3)\n",
    "        print(a3.shape)\n",
    "        \n",
    "        delta3 = a3 - y.T\n",
    "        print(delta3.shape)\n",
    "        # delta2 = np.multiply(np.multiply(theta2.T, delta3.T), sigmoidGradient(z2))\n",
    "        delta2 = np.multiply(theta2.T, delta3.T) * sigmoidGradient(z2)\n",
    "        delta2 = delta2[1 :delta2.shape[0], :]\n",
    "        \n"
   ]
  },
  {
   "cell_type": "code",
   "execution_count": 178,
   "metadata": {},
   "outputs": [
    {
     "output_type": "stream",
     "name": "stdout",
     "text": [
      "[0. 0. 0. 0. 0. 0. 0. 0. 0. 1.]\n(25, 1)\n(10, 1)\n(10, 10)\n"
     ]
    },
    {
     "output_type": "error",
     "ename": "ValueError",
     "evalue": "operands could not be broadcast together with shapes (26,10) (10,10) ",
     "traceback": [
      "\u001b[1;31m---------------------------------------------------------------------------\u001b[0m",
      "\u001b[1;31mValueError\u001b[0m                                Traceback (most recent call last)",
      "\u001b[1;32m<ipython-input-178-2d453543c59c>\u001b[0m in \u001b[0;36m<module>\u001b[1;34m\u001b[0m\n\u001b[1;32m----> 1\u001b[1;33m \u001b[0mdelta\u001b[0m \u001b[1;33m=\u001b[0m \u001b[0mBPfunction\u001b[0m\u001b[1;33m(\u001b[0m\u001b[0mX\u001b[0m\u001b[1;33m,\u001b[0m \u001b[0my\u001b[0m\u001b[1;33m,\u001b[0m \u001b[0mtheta1\u001b[0m\u001b[1;33m,\u001b[0m \u001b[0mtheta2\u001b[0m\u001b[1;33m,\u001b[0m \u001b[1;36m1\u001b[0m\u001b[1;33m)\u001b[0m\u001b[1;33m\u001b[0m\u001b[1;33m\u001b[0m\u001b[0m\n\u001b[0m",
      "\u001b[1;32m<ipython-input-177-c5f2d8537d00>\u001b[0m in \u001b[0;36mBPfunction\u001b[1;34m(X, y, theta1, theta2, alpha)\u001b[0m\n\u001b[0;32m     24\u001b[0m         \u001b[0mprint\u001b[0m\u001b[1;33m(\u001b[0m\u001b[0mdelta3\u001b[0m\u001b[1;33m.\u001b[0m\u001b[0mshape\u001b[0m\u001b[1;33m)\u001b[0m\u001b[1;33m\u001b[0m\u001b[1;33m\u001b[0m\u001b[0m\n\u001b[0;32m     25\u001b[0m         \u001b[1;31m# delta2 = np.multiply(np.multiply(theta2.T, delta3.T), sigmoidGradient(z2))\u001b[0m\u001b[1;33m\u001b[0m\u001b[1;33m\u001b[0m\u001b[1;33m\u001b[0m\u001b[0m\n\u001b[1;32m---> 26\u001b[1;33m         \u001b[0mdelta2\u001b[0m \u001b[1;33m=\u001b[0m \u001b[0mnp\u001b[0m\u001b[1;33m.\u001b[0m\u001b[0mmultiply\u001b[0m\u001b[1;33m(\u001b[0m\u001b[0mtheta2\u001b[0m\u001b[1;33m.\u001b[0m\u001b[0mT\u001b[0m\u001b[1;33m,\u001b[0m \u001b[0mdelta3\u001b[0m\u001b[1;33m.\u001b[0m\u001b[0mT\u001b[0m\u001b[1;33m)\u001b[0m \u001b[1;33m*\u001b[0m \u001b[0msigmoidGradient\u001b[0m\u001b[1;33m(\u001b[0m\u001b[0mz2\u001b[0m\u001b[1;33m)\u001b[0m\u001b[1;33m\u001b[0m\u001b[1;33m\u001b[0m\u001b[0m\n\u001b[0m\u001b[0;32m     27\u001b[0m         \u001b[0mdelta2\u001b[0m \u001b[1;33m=\u001b[0m \u001b[0mdelta2\u001b[0m\u001b[1;33m[\u001b[0m\u001b[1;36m1\u001b[0m \u001b[1;33m:\u001b[0m\u001b[0mdelta2\u001b[0m\u001b[1;33m.\u001b[0m\u001b[0mshape\u001b[0m\u001b[1;33m[\u001b[0m\u001b[1;36m0\u001b[0m\u001b[1;33m]\u001b[0m\u001b[1;33m,\u001b[0m \u001b[1;33m:\u001b[0m\u001b[1;33m]\u001b[0m\u001b[1;33m\u001b[0m\u001b[1;33m\u001b[0m\u001b[0m\n\u001b[0;32m     28\u001b[0m \u001b[1;33m\u001b[0m\u001b[0m\n",
      "\u001b[1;31mValueError\u001b[0m: operands could not be broadcast together with shapes (26,10) (10,10) "
     ]
    }
   ],
   "source": [
    "delta = BPfunction(X, y, theta1, theta2, 1)"
   ]
  },
  {
   "cell_type": "code",
   "execution_count": null,
   "metadata": {},
   "outputs": [],
   "source": []
  }
 ]
}